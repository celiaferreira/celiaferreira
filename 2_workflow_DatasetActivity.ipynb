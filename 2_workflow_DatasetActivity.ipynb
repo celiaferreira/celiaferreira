{
 "cells": [
  {
   "cell_type": "code",
   "execution_count": null,
   "metadata": {},
   "outputs": [],
   "source": [
    "# NOTAS:\n",
    "# 10299 registos: 7352 treino+2947 teste\n",
    "# 561 features\n",
    "# output: 6 classes\n"
   ]
  },
  {
   "cell_type": "code",
   "execution_count": 1,
   "metadata": {},
   "outputs": [],
   "source": [
    "import pandas as pd\n",
    "import numpy as np\n",
    "from sklearn import datasets\n",
    "from sklearn import metrics\n",
    "from sklearn.metrics import classification_report, f1_score, accuracy_score, precision_score, confusion_matrix\n",
    "from sklearn.model_selection import cross_val_predict, cross_val_score\n",
    "import matplotlib.pyplot as plt\n",
    "import seaborn as sns\n",
    "from sklearn.model_selection import LeaveOneOut"
   ]
  },
  {
   "cell_type": "code",
   "execution_count": 2,
   "metadata": {},
   "outputs": [],
   "source": [
    "import numpy as np\n",
    "def report(results, n_top=3):\n",
    " for i in range(1, n_top + 1):\n",
    "  candidates = np.flatnonzero(results['rank_test_score'] == i)\n",
    " for candidate in candidates:\n",
    "  print(\"Model with rank: {0}\".format(i))\n",
    "  print(\"Mean validation score: {0:.3f} (std: {1:.3f})\".format(\n",
    "  results['mean_test_score'][candidate],\n",
    "  results['std_test_score'][candidate]))\n",
    "  print(\"Parameters: {0}\".format(results['params'][candidate]))\n",
    "  print(\"\")"
   ]
  },
  {
   "cell_type": "markdown",
   "metadata": {},
   "source": [
    "# Import data"
   ]
  },
  {
   "cell_type": "code",
   "execution_count": 3,
   "metadata": {},
   "outputs": [
    {
     "name": "stdout",
     "output_type": "stream",
     "text": [
      "   ID            Activity\n",
      "0   1             WALKING\n",
      "1   2    WALKING_UPSTAIRS\n",
      "2   3  WALKING_DOWNSTAIRS\n",
      "3   4             SITTING\n",
      "4   5            STANDING\n",
      "5   6              LAYING\n"
     ]
    }
   ],
   "source": [
    "activities = pd.read_csv('C:/activity_labels.txt', sep=' ',\n",
    "header=None, names=('ID','Activity'))\n",
    "print(activities)"
   ]
  },
  {
   "cell_type": "code",
   "execution_count": 4,
   "metadata": {},
   "outputs": [
    {
     "name": "stdout",
     "output_type": "stream",
     "text": [
      "(561, 2)\n"
     ]
    },
    {
     "data": {
      "text/html": [
       "<div>\n",
       "<style scoped>\n",
       "    .dataframe tbody tr th:only-of-type {\n",
       "        vertical-align: middle;\n",
       "    }\n",
       "\n",
       "    .dataframe tbody tr th {\n",
       "        vertical-align: top;\n",
       "    }\n",
       "\n",
       "    .dataframe thead th {\n",
       "        text-align: right;\n",
       "    }\n",
       "</style>\n",
       "<table border=\"1\" class=\"dataframe\">\n",
       "  <thead>\n",
       "    <tr style=\"text-align: right;\">\n",
       "      <th></th>\n",
       "      <th>ID</th>\n",
       "      <th>Sensor</th>\n",
       "    </tr>\n",
       "  </thead>\n",
       "  <tbody>\n",
       "    <tr>\n",
       "      <td>0</td>\n",
       "      <td>1</td>\n",
       "      <td>tBodyAcc-mean()-X</td>\n",
       "    </tr>\n",
       "    <tr>\n",
       "      <td>1</td>\n",
       "      <td>2</td>\n",
       "      <td>tBodyAcc-mean()-Y</td>\n",
       "    </tr>\n",
       "    <tr>\n",
       "      <td>2</td>\n",
       "      <td>3</td>\n",
       "      <td>tBodyAcc-mean()-Z</td>\n",
       "    </tr>\n",
       "    <tr>\n",
       "      <td>3</td>\n",
       "      <td>4</td>\n",
       "      <td>tBodyAcc-std()-X</td>\n",
       "    </tr>\n",
       "    <tr>\n",
       "      <td>4</td>\n",
       "      <td>5</td>\n",
       "      <td>tBodyAcc-std()-Y</td>\n",
       "    </tr>\n",
       "  </tbody>\n",
       "</table>\n",
       "</div>"
      ],
      "text/plain": [
       "   ID             Sensor\n",
       "0   1  tBodyAcc-mean()-X\n",
       "1   2  tBodyAcc-mean()-Y\n",
       "2   3  tBodyAcc-mean()-Z\n",
       "3   4   tBodyAcc-std()-X\n",
       "4   5   tBodyAcc-std()-Y"
      ]
     },
     "execution_count": 4,
     "metadata": {},
     "output_type": "execute_result"
    }
   ],
   "source": [
    "features = pd.read_csv(\"C:/features.txt\", sep = \" \",\n",
    "header = None, names=('ID','Sensor'))\n",
    "print(features.shape)\n",
    "features.head()"
   ]
  },
  {
   "cell_type": "code",
   "execution_count": 5,
   "metadata": {},
   "outputs": [
    {
     "name": "stdout",
     "output_type": "stream",
     "text": [
      "(7352, 1) (2947, 1)\n"
     ]
    },
    {
     "data": {
      "text/html": [
       "<div>\n",
       "<style scoped>\n",
       "    .dataframe tbody tr th:only-of-type {\n",
       "        vertical-align: middle;\n",
       "    }\n",
       "\n",
       "    .dataframe tbody tr th {\n",
       "        vertical-align: top;\n",
       "    }\n",
       "\n",
       "    .dataframe thead th {\n",
       "        text-align: right;\n",
       "    }\n",
       "</style>\n",
       "<table border=\"1\" class=\"dataframe\">\n",
       "  <thead>\n",
       "    <tr style=\"text-align: right;\">\n",
       "      <th></th>\n",
       "      <th>SubjectID</th>\n",
       "    </tr>\n",
       "  </thead>\n",
       "  <tbody>\n",
       "    <tr>\n",
       "      <td>0</td>\n",
       "      <td>1</td>\n",
       "    </tr>\n",
       "    <tr>\n",
       "      <td>1</td>\n",
       "      <td>1</td>\n",
       "    </tr>\n",
       "    <tr>\n",
       "      <td>2</td>\n",
       "      <td>1</td>\n",
       "    </tr>\n",
       "    <tr>\n",
       "      <td>3</td>\n",
       "      <td>1</td>\n",
       "    </tr>\n",
       "    <tr>\n",
       "      <td>4</td>\n",
       "      <td>1</td>\n",
       "    </tr>\n",
       "  </tbody>\n",
       "</table>\n",
       "</div>"
      ],
      "text/plain": [
       "   SubjectID\n",
       "0          1\n",
       "1          1\n",
       "2          1\n",
       "3          1\n",
       "4          1"
      ]
     },
     "execution_count": 5,
     "metadata": {},
     "output_type": "execute_result"
    }
   ],
   "source": [
    "subjects_tr = pd.read_csv(\"C:/subject_train.txt\",\n",
    "header = None, names=['SubjectID'])\n",
    "subjects_tst = pd.read_csv(\"C:/subject_test.txt\",\n",
    "header = None, names=['SubjectID'])\n",
    "print(subjects_tr.shape, subjects_tst.shape)\n",
    "subjects_tr.head()"
   ]
  },
  {
   "cell_type": "code",
   "execution_count": 6,
   "metadata": {},
   "outputs": [
    {
     "name": "stdout",
     "output_type": "stream",
     "text": [
      "(7352, 561) (2947, 561)\n"
     ]
    }
   ],
   "source": [
    "x_train = pd.read_csv(\"C:/X_train.txt\",\n",
    "sep = \"\\s+\", header = None)\n",
    "x_test = pd.read_csv(\"C:/X_test.txt\",\n",
    "sep = \"\\s+\", header = None)\n",
    "print(x_train.shape, x_test.shape)"
   ]
  },
  {
   "cell_type": "code",
   "execution_count": 7,
   "metadata": {},
   "outputs": [
    {
     "name": "stdout",
     "output_type": "stream",
     "text": [
      "(7352, 1) (2947, 1)\n"
     ]
    }
   ],
   "source": [
    "y_train = pd.read_csv(\"C:/y_train.txt\",\n",
    "header=None, names=['ActivityID'])\n",
    "y_test = pd.read_csv(\"C:/y_test.txt\",\n",
    "header=None, names=['ActivityID'])\n",
    "print(y_train.shape, y_test.shape)"
   ]
  },
  {
   "cell_type": "markdown",
   "metadata": {},
   "source": [
   "# Data preparation\n",
    "* Merge training and testing datasets"
   ]
  },
  {
   "cell_type": "code",
   "execution_count": 8,
   "metadata": {},
   "outputs": [
    {
     "name": "stdout",
     "output_type": "stream",
     "text": [
      "(10299, 1)\n",
      "(10299, 561)\n",
      "(10299, 1)\n"
     ]
    }
   ],
   "source": [
    "subjects_all = pd.concat([subjects_tr, subjects_tst], ignore_index=True)\n",
    "print(subjects_all.shape)\n",
    "x_all = pd.concat([x_train, x_test], ignore_index=True)\n",
    "print(x_all.shape)\n",
    "y_all = y_train.append(y_test, ignore_index=True)\n",
    "print(y_all.shape)"
   ]
  },
  {
   "cell_type": "markdown",
   "metadata": {},
   "source": [
    "* Put the names of the columns of X as feature names"
   ]
  },
  {
   "cell_type": "code",
   "execution_count": 9,
   "metadata": {},
   "outputs": [
    {
     "data": {
      "text/html": [
       "<div>\n",
       "<style scoped>\n",
       "    .dataframe tbody tr th:only-of-type {\n",
       "        vertical-align: middle;\n",
       "    }\n",
       "\n",
       "    .dataframe tbody tr th {\n",
       "        vertical-align: top;\n",
       "    }\n",
       "\n",
       "    .dataframe thead th {\n",
       "        text-align: right;\n",
       "    }\n",
       "</style>\n",
       "<table border=\"1\" class=\"dataframe\">\n",
       "  <thead>\n",
       "    <tr style=\"text-align: right;\">\n",
       "      <th>Sensor</th>\n",
       "      <th>tBodyAcc-mean()-X</th>\n",
       "      <th>tBodyAcc-mean()-Y</th>\n",
       "      <th>tBodyAcc-mean()-Z</th>\n",
       "      <th>tBodyAcc-std()-X</th>\n",
       "      <th>tBodyAcc-std()-Y</th>\n",
       "      <th>tBodyAcc-std()-Z</th>\n",
       "      <th>tBodyAcc-mad()-X</th>\n",
       "      <th>tBodyAcc-mad()-Y</th>\n",
       "      <th>tBodyAcc-mad()-Z</th>\n",
       "      <th>tBodyAcc-max()-X</th>\n",
       "      <th>...</th>\n",
       "      <th>fBodyBodyGyroJerkMag-meanFreq()</th>\n",
       "      <th>fBodyBodyGyroJerkMag-skewness()</th>\n",
       "      <th>fBodyBodyGyroJerkMag-kurtosis()</th>\n",
       "      <th>angle(tBodyAccMean,gravity)</th>\n",
       "      <th>angle(tBodyAccJerkMean),gravityMean)</th>\n",
       "      <th>angle(tBodyGyroMean,gravityMean)</th>\n",
       "      <th>angle(tBodyGyroJerkMean,gravityMean)</th>\n",
       "      <th>angle(X,gravityMean)</th>\n",
       "      <th>angle(Y,gravityMean)</th>\n",
       "      <th>angle(Z,gravityMean)</th>\n",
       "    </tr>\n",
       "  </thead>\n",
       "  <tbody>\n",
       "    <tr>\n",
       "      <td>0</td>\n",
       "      <td>0.288585</td>\n",
       "      <td>-0.020294</td>\n",
       "      <td>-0.132905</td>\n",
       "      <td>-0.995279</td>\n",
       "      <td>-0.983111</td>\n",
       "      <td>-0.913526</td>\n",
       "      <td>-0.995112</td>\n",
       "      <td>-0.983185</td>\n",
       "      <td>-0.923527</td>\n",
       "      <td>-0.934724</td>\n",
       "      <td>...</td>\n",
       "      <td>-0.074323</td>\n",
       "      <td>-0.298676</td>\n",
       "      <td>-0.710304</td>\n",
       "      <td>-0.112754</td>\n",
       "      <td>0.030400</td>\n",
       "      <td>-0.464761</td>\n",
       "      <td>-0.018446</td>\n",
       "      <td>-0.841247</td>\n",
       "      <td>0.179941</td>\n",
       "      <td>-0.058627</td>\n",
       "    </tr>\n",
       "    <tr>\n",
       "      <td>1</td>\n",
       "      <td>0.278419</td>\n",
       "      <td>-0.016411</td>\n",
       "      <td>-0.123520</td>\n",
       "      <td>-0.998245</td>\n",
       "      <td>-0.975300</td>\n",
       "      <td>-0.960322</td>\n",
       "      <td>-0.998807</td>\n",
       "      <td>-0.974914</td>\n",
       "      <td>-0.957686</td>\n",
       "      <td>-0.943068</td>\n",
       "      <td>...</td>\n",
       "      <td>0.158075</td>\n",
       "      <td>-0.595051</td>\n",
       "      <td>-0.861499</td>\n",
       "      <td>0.053477</td>\n",
       "      <td>-0.007435</td>\n",
       "      <td>-0.732626</td>\n",
       "      <td>0.703511</td>\n",
       "      <td>-0.844788</td>\n",
       "      <td>0.180289</td>\n",
       "      <td>-0.054317</td>\n",
       "    </tr>\n",
       "    <tr>\n",
       "      <td>2</td>\n",
       "      <td>0.279653</td>\n",
       "      <td>-0.019467</td>\n",
       "      <td>-0.113462</td>\n",
       "      <td>-0.995380</td>\n",
       "      <td>-0.967187</td>\n",
       "      <td>-0.978944</td>\n",
       "      <td>-0.996520</td>\n",
       "      <td>-0.963668</td>\n",
       "      <td>-0.977469</td>\n",
       "      <td>-0.938692</td>\n",
       "      <td>...</td>\n",
       "      <td>0.414503</td>\n",
       "      <td>-0.390748</td>\n",
       "      <td>-0.760104</td>\n",
       "      <td>-0.118559</td>\n",
       "      <td>0.177899</td>\n",
       "      <td>0.100699</td>\n",
       "      <td>0.808529</td>\n",
       "      <td>-0.848933</td>\n",
       "      <td>0.180637</td>\n",
       "      <td>-0.049118</td>\n",
       "    </tr>\n",
       "    <tr>\n",
       "      <td>3</td>\n",
       "      <td>0.279174</td>\n",
       "      <td>-0.026201</td>\n",
       "      <td>-0.123283</td>\n",
       "      <td>-0.996091</td>\n",
       "      <td>-0.983403</td>\n",
       "      <td>-0.990675</td>\n",
       "      <td>-0.997099</td>\n",
       "      <td>-0.982750</td>\n",
       "      <td>-0.989302</td>\n",
       "      <td>-0.938692</td>\n",
       "      <td>...</td>\n",
       "      <td>0.404573</td>\n",
       "      <td>-0.117290</td>\n",
       "      <td>-0.482845</td>\n",
       "      <td>-0.036788</td>\n",
       "      <td>-0.012892</td>\n",
       "      <td>0.640011</td>\n",
       "      <td>-0.485366</td>\n",
       "      <td>-0.848649</td>\n",
       "      <td>0.181935</td>\n",
       "      <td>-0.047663</td>\n",
       "    </tr>\n",
       "    <tr>\n",
       "      <td>4</td>\n",
       "      <td>0.276629</td>\n",
       "      <td>-0.016570</td>\n",
       "      <td>-0.115362</td>\n",
       "      <td>-0.998139</td>\n",
       "      <td>-0.980817</td>\n",
       "      <td>-0.990482</td>\n",
       "      <td>-0.998321</td>\n",
       "      <td>-0.979672</td>\n",
       "      <td>-0.990441</td>\n",
       "      <td>-0.942469</td>\n",
       "      <td>...</td>\n",
       "      <td>0.087753</td>\n",
       "      <td>-0.351471</td>\n",
       "      <td>-0.699205</td>\n",
       "      <td>0.123320</td>\n",
       "      <td>0.122542</td>\n",
       "      <td>0.693578</td>\n",
       "      <td>-0.615971</td>\n",
       "      <td>-0.847865</td>\n",
       "      <td>0.185151</td>\n",
       "      <td>-0.043892</td>\n",
       "    </tr>\n",
       "  </tbody>\n",
       "</table>\n",
       "<p>5 rows × 561 columns</p>\n",
       "</div>"
      ],
      "text/plain": [
       "Sensor  tBodyAcc-mean()-X  tBodyAcc-mean()-Y  tBodyAcc-mean()-Z  \\\n",
       "0                0.288585          -0.020294          -0.132905   \n",
       "1                0.278419          -0.016411          -0.123520   \n",
       "2                0.279653          -0.019467          -0.113462   \n",
       "3                0.279174          -0.026201          -0.123283   \n",
       "4                0.276629          -0.016570          -0.115362   \n",
       "\n",
       "Sensor  tBodyAcc-std()-X  tBodyAcc-std()-Y  tBodyAcc-std()-Z  \\\n",
       "0              -0.995279         -0.983111         -0.913526   \n",
       "1              -0.998245         -0.975300         -0.960322   \n",
       "2              -0.995380         -0.967187         -0.978944   \n",
       "3              -0.996091         -0.983403         -0.990675   \n",
       "4              -0.998139         -0.980817         -0.990482   \n",
       "\n",
       "Sensor  tBodyAcc-mad()-X  tBodyAcc-mad()-Y  tBodyAcc-mad()-Z  \\\n",
       "0              -0.995112         -0.983185         -0.923527   \n",
       "1              -0.998807         -0.974914         -0.957686   \n",
       "2              -0.996520         -0.963668         -0.977469   \n",
       "3              -0.997099         -0.982750         -0.989302   \n",
       "4              -0.998321         -0.979672         -0.990441   \n",
       "\n",
       "Sensor  tBodyAcc-max()-X  ...  fBodyBodyGyroJerkMag-meanFreq()  \\\n",
       "0              -0.934724  ...                        -0.074323   \n",
       "1              -0.943068  ...                         0.158075   \n",
       "2              -0.938692  ...                         0.414503   \n",
       "3              -0.938692  ...                         0.404573   \n",
       "4              -0.942469  ...                         0.087753   \n",
       "\n",
       "Sensor  fBodyBodyGyroJerkMag-skewness()  fBodyBodyGyroJerkMag-kurtosis()  \\\n",
       "0                             -0.298676                        -0.710304   \n",
       "1                             -0.595051                        -0.861499   \n",
       "2                             -0.390748                        -0.760104   \n",
       "3                             -0.117290                        -0.482845   \n",
       "4                             -0.351471                        -0.699205   \n",
       "\n",
       "Sensor  angle(tBodyAccMean,gravity)  angle(tBodyAccJerkMean),gravityMean)  \\\n",
       "0                         -0.112754                              0.030400   \n",
       "1                          0.053477                             -0.007435   \n",
       "2                         -0.118559                              0.177899   \n",
       "3                         -0.036788                             -0.012892   \n",
       "4                          0.123320                              0.122542   \n",
       "\n",
       "Sensor  angle(tBodyGyroMean,gravityMean)  \\\n",
       "0                              -0.464761   \n",
       "1                              -0.732626   \n",
       "2                               0.100699   \n",
       "3                               0.640011   \n",
       "4                               0.693578   \n",
       "\n",
       "Sensor  angle(tBodyGyroJerkMean,gravityMean)  angle(X,gravityMean)  \\\n",
       "0                                  -0.018446             -0.841247   \n",
       "1                                   0.703511             -0.844788   \n",
       "2                                   0.808529             -0.848933   \n",
       "3                                  -0.485366             -0.848649   \n",
       "4                                  -0.615971             -0.847865   \n",
       "\n",
       "Sensor  angle(Y,gravityMean)  angle(Z,gravityMean)  \n",
       "0                   0.179941             -0.058627  \n",
       "1                   0.180289             -0.054317  \n",
       "2                   0.180637             -0.049118  \n",
       "3                   0.181935             -0.047663  \n",
       "4                   0.185151             -0.043892  \n",
       "\n",
       "[5 rows x 561 columns]"
      ]
     },
     "execution_count": 9,
     "metadata": {},
     "output_type": "execute_result"
    }
   ],
   "source": [
    "sensorNames = features['Sensor']\n",
    "x_all.columns = sensorNames\n",
    "x_all.head()"
   ]
  },
  {
   "cell_type": "markdown",
   "metadata": {},
   "source": [
    "* Replace activity codes with designation (string)"
   ]
  },
  {
   "cell_type": "code",
   "execution_count": 10,
   "metadata": {},
   "outputs": [
    {
     "data": {
      "text/html": [
       "<div>\n",
       "<style scoped>\n",
       "    .dataframe tbody tr th:only-of-type {\n",
       "        vertical-align: middle;\n",
       "    }\n",
       "\n",
       "    .dataframe tbody tr th {\n",
       "        vertical-align: top;\n",
       "    }\n",
       "\n",
       "    .dataframe thead th {\n",
       "        text-align: right;\n",
       "    }\n",
       "</style>\n",
       "<table border=\"1\" class=\"dataframe\">\n",
       "  <thead>\n",
       "    <tr style=\"text-align: right;\">\n",
       "      <th></th>\n",
       "      <th>Activity</th>\n",
       "    </tr>\n",
       "  </thead>\n",
       "  <tbody>\n",
       "    <tr>\n",
       "      <td>10294</td>\n",
       "      <td>WALKING_UPSTAIRS</td>\n",
       "    </tr>\n",
       "    <tr>\n",
       "      <td>10295</td>\n",
       "      <td>WALKING_UPSTAIRS</td>\n",
       "    </tr>\n",
       "    <tr>\n",
       "      <td>10296</td>\n",
       "      <td>WALKING_UPSTAIRS</td>\n",
       "    </tr>\n",
       "    <tr>\n",
       "      <td>10297</td>\n",
       "      <td>WALKING_UPSTAIRS</td>\n",
       "    </tr>\n",
       "    <tr>\n",
       "      <td>10298</td>\n",
       "      <td>WALKING_UPSTAIRS</td>\n",
       "    </tr>\n",
       "  </tbody>\n",
       "</table>\n",
       "</div>"
      ],
      "text/plain": [
       "               Activity\n",
       "10294  WALKING_UPSTAIRS\n",
       "10295  WALKING_UPSTAIRS\n",
       "10296  WALKING_UPSTAIRS\n",
       "10297  WALKING_UPSTAIRS\n",
       "10298  WALKING_UPSTAIRS"
      ]
     },
     "execution_count": 10,
     "metadata": {},
     "output_type": "execute_result"
    }
   ],
   "source": [
    "for i in activities['ID']:\n",
    " activity = activities[activities['ID'] == i]['Activity']\n",
    " y_all = y_all.replace({i: activity.iloc[0]})\n",
    "y_all.columns = ['Activity']\n",
    "#y_all.head()\n",
    "y_all.tail()"
   ]
  },
  {
   "cell_type": "markdown",
   "metadata": {},
   "source": [
    "* Put everything together in a single DataFrame and save it in a CSV"
   ]
  },
  {
   "cell_type": "code",
   "execution_count": 11,
   "metadata": {},
   "outputs": [
    {
     "name": "stdout",
     "output_type": "stream",
     "text": [
      "(10299, 563)\n"
     ]
    },
    {
     "data": {
      "text/html": [
       "<div>\n",
       "<style scoped>\n",
       "    .dataframe tbody tr th:only-of-type {\n",
       "        vertical-align: middle;\n",
       "    }\n",
       "\n",
       "    .dataframe tbody tr th {\n",
       "        vertical-align: top;\n",
       "    }\n",
       "\n",
       "    .dataframe thead th {\n",
       "        text-align: right;\n",
       "    }\n",
       "</style>\n",
       "<table border=\"1\" class=\"dataframe\">\n",
       "  <thead>\n",
       "    <tr style=\"text-align: right;\">\n",
       "      <th></th>\n",
       "      <th>tBodyAcc-mean()-X</th>\n",
       "      <th>tBodyAcc-mean()-Y</th>\n",
       "      <th>tBodyAcc-mean()-Z</th>\n",
       "      <th>tBodyAcc-std()-X</th>\n",
       "      <th>tBodyAcc-std()-Y</th>\n",
       "      <th>tBodyAcc-std()-Z</th>\n",
       "      <th>tBodyAcc-mad()-X</th>\n",
       "      <th>tBodyAcc-mad()-Y</th>\n",
       "      <th>tBodyAcc-mad()-Z</th>\n",
       "      <th>tBodyAcc-max()-X</th>\n",
       "      <th>...</th>\n",
       "      <th>fBodyBodyGyroJerkMag-kurtosis()</th>\n",
       "      <th>angle(tBodyAccMean,gravity)</th>\n",
       "      <th>angle(tBodyAccJerkMean),gravityMean)</th>\n",
       "      <th>angle(tBodyGyroMean,gravityMean)</th>\n",
       "      <th>angle(tBodyGyroJerkMean,gravityMean)</th>\n",
       "      <th>angle(X,gravityMean)</th>\n",
       "      <th>angle(Y,gravityMean)</th>\n",
       "      <th>angle(Z,gravityMean)</th>\n",
       "      <th>SubjectID</th>\n",
       "      <th>Activity</th>\n",
       "    </tr>\n",
       "  </thead>\n",
       "  <tbody>\n",
       "    <tr>\n",
       "      <td>0</td>\n",
       "      <td>0.288585</td>\n",
       "      <td>-0.020294</td>\n",
       "      <td>-0.132905</td>\n",
       "      <td>-0.995279</td>\n",
       "      <td>-0.983111</td>\n",
       "      <td>-0.913526</td>\n",
       "      <td>-0.995112</td>\n",
       "      <td>-0.983185</td>\n",
       "      <td>-0.923527</td>\n",
       "      <td>-0.934724</td>\n",
       "      <td>...</td>\n",
       "      <td>-0.710304</td>\n",
       "      <td>-0.112754</td>\n",
       "      <td>0.030400</td>\n",
       "      <td>-0.464761</td>\n",
       "      <td>-0.018446</td>\n",
       "      <td>-0.841247</td>\n",
       "      <td>0.179941</td>\n",
       "      <td>-0.058627</td>\n",
       "      <td>1</td>\n",
       "      <td>STANDING</td>\n",
       "    </tr>\n",
       "    <tr>\n",
       "      <td>1</td>\n",
       "      <td>0.278419</td>\n",
       "      <td>-0.016411</td>\n",
       "      <td>-0.123520</td>\n",
       "      <td>-0.998245</td>\n",
       "      <td>-0.975300</td>\n",
       "      <td>-0.960322</td>\n",
       "      <td>-0.998807</td>\n",
       "      <td>-0.974914</td>\n",
       "      <td>-0.957686</td>\n",
       "      <td>-0.943068</td>\n",
       "      <td>...</td>\n",
       "      <td>-0.861499</td>\n",
       "      <td>0.053477</td>\n",
       "      <td>-0.007435</td>\n",
       "      <td>-0.732626</td>\n",
       "      <td>0.703511</td>\n",
       "      <td>-0.844788</td>\n",
       "      <td>0.180289</td>\n",
       "      <td>-0.054317</td>\n",
       "      <td>1</td>\n",
       "      <td>STANDING</td>\n",
       "    </tr>\n",
       "    <tr>\n",
       "      <td>2</td>\n",
       "      <td>0.279653</td>\n",
       "      <td>-0.019467</td>\n",
       "      <td>-0.113462</td>\n",
       "      <td>-0.995380</td>\n",
       "      <td>-0.967187</td>\n",
       "      <td>-0.978944</td>\n",
       "      <td>-0.996520</td>\n",
       "      <td>-0.963668</td>\n",
       "      <td>-0.977469</td>\n",
       "      <td>-0.938692</td>\n",
       "      <td>...</td>\n",
       "      <td>-0.760104</td>\n",
       "      <td>-0.118559</td>\n",
       "      <td>0.177899</td>\n",
       "      <td>0.100699</td>\n",
       "      <td>0.808529</td>\n",
       "      <td>-0.848933</td>\n",
       "      <td>0.180637</td>\n",
       "      <td>-0.049118</td>\n",
       "      <td>1</td>\n",
       "      <td>STANDING</td>\n",
       "    </tr>\n",
       "    <tr>\n",
       "      <td>3</td>\n",
       "      <td>0.279174</td>\n",
       "      <td>-0.026201</td>\n",
       "      <td>-0.123283</td>\n",
       "      <td>-0.996091</td>\n",
       "      <td>-0.983403</td>\n",
       "      <td>-0.990675</td>\n",
       "      <td>-0.997099</td>\n",
       "      <td>-0.982750</td>\n",
       "      <td>-0.989302</td>\n",
       "      <td>-0.938692</td>\n",
       "      <td>...</td>\n",
       "      <td>-0.482845</td>\n",
       "      <td>-0.036788</td>\n",
       "      <td>-0.012892</td>\n",
       "      <td>0.640011</td>\n",
       "      <td>-0.485366</td>\n",
       "      <td>-0.848649</td>\n",
       "      <td>0.181935</td>\n",
       "      <td>-0.047663</td>\n",
       "      <td>1</td>\n",
       "      <td>STANDING</td>\n",
       "    </tr>\n",
       "    <tr>\n",
       "      <td>4</td>\n",
       "      <td>0.276629</td>\n",
       "      <td>-0.016570</td>\n",
       "      <td>-0.115362</td>\n",
       "      <td>-0.998139</td>\n",
       "      <td>-0.980817</td>\n",
       "      <td>-0.990482</td>\n",
       "      <td>-0.998321</td>\n",
       "      <td>-0.979672</td>\n",
       "      <td>-0.990441</td>\n",
       "      <td>-0.942469</td>\n",
       "      <td>...</td>\n",
       "      <td>-0.699205</td>\n",
       "      <td>0.123320</td>\n",
       "      <td>0.122542</td>\n",
       "      <td>0.693578</td>\n",
       "      <td>-0.615971</td>\n",
       "      <td>-0.847865</td>\n",
       "      <td>0.185151</td>\n",
       "      <td>-0.043892</td>\n",
       "      <td>1</td>\n",
       "      <td>STANDING</td>\n",
       "    </tr>\n",
       "  </tbody>\n",
       "</table>\n",
       "<p>5 rows × 563 columns</p>\n",
       "</div>"
      ],
      "text/plain": [
       "   tBodyAcc-mean()-X  tBodyAcc-mean()-Y  tBodyAcc-mean()-Z  tBodyAcc-std()-X  \\\n",
       "0           0.288585          -0.020294          -0.132905         -0.995279   \n",
       "1           0.278419          -0.016411          -0.123520         -0.998245   \n",
       "2           0.279653          -0.019467          -0.113462         -0.995380   \n",
       "3           0.279174          -0.026201          -0.123283         -0.996091   \n",
       "4           0.276629          -0.016570          -0.115362         -0.998139   \n",
       "\n",
       "   tBodyAcc-std()-Y  tBodyAcc-std()-Z  tBodyAcc-mad()-X  tBodyAcc-mad()-Y  \\\n",
       "0         -0.983111         -0.913526         -0.995112         -0.983185   \n",
       "1         -0.975300         -0.960322         -0.998807         -0.974914   \n",
       "2         -0.967187         -0.978944         -0.996520         -0.963668   \n",
       "3         -0.983403         -0.990675         -0.997099         -0.982750   \n",
       "4         -0.980817         -0.990482         -0.998321         -0.979672   \n",
       "\n",
       "   tBodyAcc-mad()-Z  tBodyAcc-max()-X  ...  fBodyBodyGyroJerkMag-kurtosis()  \\\n",
       "0         -0.923527         -0.934724  ...                        -0.710304   \n",
       "1         -0.957686         -0.943068  ...                        -0.861499   \n",
       "2         -0.977469         -0.938692  ...                        -0.760104   \n",
       "3         -0.989302         -0.938692  ...                        -0.482845   \n",
       "4         -0.990441         -0.942469  ...                        -0.699205   \n",
       "\n",
       "   angle(tBodyAccMean,gravity)  angle(tBodyAccJerkMean),gravityMean)  \\\n",
       "0                    -0.112754                              0.030400   \n",
       "1                     0.053477                             -0.007435   \n",
       "2                    -0.118559                              0.177899   \n",
       "3                    -0.036788                             -0.012892   \n",
       "4                     0.123320                              0.122542   \n",
       "\n",
       "   angle(tBodyGyroMean,gravityMean)  angle(tBodyGyroJerkMean,gravityMean)  \\\n",
       "0                         -0.464761                             -0.018446   \n",
       "1                         -0.732626                              0.703511   \n",
       "2                          0.100699                              0.808529   \n",
       "3                          0.640011                             -0.485366   \n",
       "4                          0.693578                             -0.615971   \n",
       "\n",
       "   angle(X,gravityMean)  angle(Y,gravityMean)  angle(Z,gravityMean)  \\\n",
       "0             -0.841247              0.179941             -0.058627   \n",
       "1             -0.844788              0.180289             -0.054317   \n",
       "2             -0.848933              0.180637             -0.049118   \n",
       "3             -0.848649              0.181935             -0.047663   \n",
       "4             -0.847865              0.185151             -0.043892   \n",
       "\n",
       "   SubjectID  Activity  \n",
       "0          1  STANDING  \n",
       "1          1  STANDING  \n",
       "2          1  STANDING  \n",
       "3          1  STANDING  \n",
       "4          1  STANDING  \n",
       "\n",
       "[5 rows x 563 columns]"
      ]
     },
     "execution_count": 11,
     "metadata": {},
     "output_type": "execute_result"
    }
   ],
   "source": [
    "x_all = pd.concat([x_all, subjects_all], axis=1)\n",
    "allXy = pd.concat([x_all, y_all], axis=1)\n",
    "print(allXy.shape)\n",
    "allXy.to_csv(\"C:/UCI HAR Dataset/HAR_clean.csv\")\n",
    "allXy.head()"
   ]
  },
  {
   "cell_type": "markdown",
   "metadata": {},
   "source": [
    "# Data aggregation\n",
    "\n",
    "* Create an aggregated dataset by individual and by activity"
   ]
  },
  {
   "cell_type": "code",
   "execution_count": 12,
   "metadata": {
    "scrolled": true
   },
   "outputs": [
    {
     "name": "stdout",
     "output_type": "stream",
     "text": [
      "(6, 562)\n"
     ]
    },
    {
     "data": {
      "text/html": [
       "<div>\n",
       "<style scoped>\n",
       "    .dataframe tbody tr th:only-of-type {\n",
       "        vertical-align: middle;\n",
       "    }\n",
       "\n",
       "    .dataframe tbody tr th {\n",
       "        vertical-align: top;\n",
       "    }\n",
       "\n",
       "    .dataframe thead th {\n",
       "        text-align: right;\n",
       "    }\n",
       "</style>\n",
       "<table border=\"1\" class=\"dataframe\">\n",
       "  <thead>\n",
       "    <tr style=\"text-align: right;\">\n",
       "      <th></th>\n",
       "      <th>tBodyAcc-mean()-X</th>\n",
       "      <th>tBodyAcc-mean()-Y</th>\n",
       "      <th>tBodyAcc-mean()-Z</th>\n",
       "      <th>tBodyAcc-std()-X</th>\n",
       "      <th>tBodyAcc-std()-Y</th>\n",
       "      <th>tBodyAcc-std()-Z</th>\n",
       "      <th>tBodyAcc-mad()-X</th>\n",
       "      <th>tBodyAcc-mad()-Y</th>\n",
       "      <th>tBodyAcc-mad()-Z</th>\n",
       "      <th>tBodyAcc-max()-X</th>\n",
       "      <th>...</th>\n",
       "      <th>fBodyBodyGyroJerkMag-skewness()</th>\n",
       "      <th>fBodyBodyGyroJerkMag-kurtosis()</th>\n",
       "      <th>angle(tBodyAccMean,gravity)</th>\n",
       "      <th>angle(tBodyAccJerkMean),gravityMean)</th>\n",
       "      <th>angle(tBodyGyroMean,gravityMean)</th>\n",
       "      <th>angle(tBodyGyroJerkMean,gravityMean)</th>\n",
       "      <th>angle(X,gravityMean)</th>\n",
       "      <th>angle(Y,gravityMean)</th>\n",
       "      <th>angle(Z,gravityMean)</th>\n",
       "      <th>SubjectID</th>\n",
       "    </tr>\n",
       "    <tr>\n",
       "      <th>Activity</th>\n",
       "      <th></th>\n",
       "      <th></th>\n",
       "      <th></th>\n",
       "      <th></th>\n",
       "      <th></th>\n",
       "      <th></th>\n",
       "      <th></th>\n",
       "      <th></th>\n",
       "      <th></th>\n",
       "      <th></th>\n",
       "      <th></th>\n",
       "      <th></th>\n",
       "      <th></th>\n",
       "      <th></th>\n",
       "      <th></th>\n",
       "      <th></th>\n",
       "      <th></th>\n",
       "      <th></th>\n",
       "      <th></th>\n",
       "      <th></th>\n",
       "      <th></th>\n",
       "    </tr>\n",
       "  </thead>\n",
       "  <tbody>\n",
       "    <tr>\n",
       "      <td>LAYING</td>\n",
       "      <td>0.268649</td>\n",
       "      <td>-0.018318</td>\n",
       "      <td>-0.107436</td>\n",
       "      <td>-0.960932</td>\n",
       "      <td>-0.943507</td>\n",
       "      <td>-0.948069</td>\n",
       "      <td>-0.963395</td>\n",
       "      <td>-0.944099</td>\n",
       "      <td>-0.947261</td>\n",
       "      <td>-0.911610</td>\n",
       "      <td>...</td>\n",
       "      <td>-0.342490</td>\n",
       "      <td>-0.658640</td>\n",
       "      <td>0.010366</td>\n",
       "      <td>0.016013</td>\n",
       "      <td>0.022788</td>\n",
       "      <td>0.009191</td>\n",
       "      <td>0.520261</td>\n",
       "      <td>-0.435944</td>\n",
       "      <td>-0.427749</td>\n",
       "      <td>16.643519</td>\n",
       "    </tr>\n",
       "    <tr>\n",
       "      <td>SITTING</td>\n",
       "      <td>0.273060</td>\n",
       "      <td>-0.012690</td>\n",
       "      <td>-0.105517</td>\n",
       "      <td>-0.983446</td>\n",
       "      <td>-0.934881</td>\n",
       "      <td>-0.938982</td>\n",
       "      <td>-0.985280</td>\n",
       "      <td>-0.934798</td>\n",
       "      <td>-0.936671</td>\n",
       "      <td>-0.926703</td>\n",
       "      <td>...</td>\n",
       "      <td>-0.384740</td>\n",
       "      <td>-0.686795</td>\n",
       "      <td>0.012034</td>\n",
       "      <td>0.002458</td>\n",
       "      <td>0.013413</td>\n",
       "      <td>-0.033260</td>\n",
       "      <td>-0.706042</td>\n",
       "      <td>0.006140</td>\n",
       "      <td>-0.089532</td>\n",
       "      <td>16.680360</td>\n",
       "    </tr>\n",
       "    <tr>\n",
       "      <td>STANDING</td>\n",
       "      <td>0.279153</td>\n",
       "      <td>-0.016152</td>\n",
       "      <td>-0.106587</td>\n",
       "      <td>-0.984435</td>\n",
       "      <td>-0.932509</td>\n",
       "      <td>-0.939914</td>\n",
       "      <td>-0.987205</td>\n",
       "      <td>-0.933875</td>\n",
       "      <td>-0.937739</td>\n",
       "      <td>-0.921265</td>\n",
       "      <td>...</td>\n",
       "      <td>-0.343769</td>\n",
       "      <td>-0.654989</td>\n",
       "      <td>0.006991</td>\n",
       "      <td>0.010397</td>\n",
       "      <td>0.004614</td>\n",
       "      <td>0.015957</td>\n",
       "      <td>-0.774143</td>\n",
       "      <td>0.209818</td>\n",
       "      <td>0.031743</td>\n",
       "      <td>16.513116</td>\n",
       "    </tr>\n",
       "    <tr>\n",
       "      <td>WALKING</td>\n",
       "      <td>0.276337</td>\n",
       "      <td>-0.017907</td>\n",
       "      <td>-0.108882</td>\n",
       "      <td>-0.314644</td>\n",
       "      <td>-0.023583</td>\n",
       "      <td>-0.273921</td>\n",
       "      <td>-0.352470</td>\n",
       "      <td>-0.055491</td>\n",
       "      <td>-0.274098</td>\n",
       "      <td>-0.113458</td>\n",
       "      <td>...</td>\n",
       "      <td>-0.071308</td>\n",
       "      <td>-0.400268</td>\n",
       "      <td>0.014918</td>\n",
       "      <td>-0.007011</td>\n",
       "      <td>0.011332</td>\n",
       "      <td>-0.019443</td>\n",
       "      <td>-0.761886</td>\n",
       "      <td>0.218599</td>\n",
       "      <td>0.059771</td>\n",
       "      <td>15.272938</td>\n",
       "    </tr>\n",
       "    <tr>\n",
       "      <td>WALKING_DOWNSTAIRS</td>\n",
       "      <td>0.288137</td>\n",
       "      <td>-0.016312</td>\n",
       "      <td>-0.105762</td>\n",
       "      <td>0.100766</td>\n",
       "      <td>0.059549</td>\n",
       "      <td>-0.190805</td>\n",
       "      <td>0.032426</td>\n",
       "      <td>0.003907</td>\n",
       "      <td>-0.214569</td>\n",
       "      <td>0.417152</td>\n",
       "      <td>...</td>\n",
       "      <td>-0.277020</td>\n",
       "      <td>-0.618394</td>\n",
       "      <td>-0.039692</td>\n",
       "      <td>-0.018665</td>\n",
       "      <td>0.203588</td>\n",
       "      <td>-0.076029</td>\n",
       "      <td>-0.780873</td>\n",
       "      <td>0.200189</td>\n",
       "      <td>0.055866</td>\n",
       "      <td>15.828592</td>\n",
       "    </tr>\n",
       "  </tbody>\n",
       "</table>\n",
       "<p>5 rows × 562 columns</p>\n",
       "</div>"
      ],
      "text/plain": [
       "                    tBodyAcc-mean()-X  tBodyAcc-mean()-Y  tBodyAcc-mean()-Z  \\\n",
       "Activity                                                                      \n",
       "LAYING                       0.268649          -0.018318          -0.107436   \n",
       "SITTING                      0.273060          -0.012690          -0.105517   \n",
       "STANDING                     0.279153          -0.016152          -0.106587   \n",
       "WALKING                      0.276337          -0.017907          -0.108882   \n",
       "WALKING_DOWNSTAIRS           0.288137          -0.016312          -0.105762   \n",
       "\n",
       "                    tBodyAcc-std()-X  tBodyAcc-std()-Y  tBodyAcc-std()-Z  \\\n",
       "Activity                                                                   \n",
       "LAYING                     -0.960932         -0.943507         -0.948069   \n",
       "SITTING                    -0.983446         -0.934881         -0.938982   \n",
       "STANDING                   -0.984435         -0.932509         -0.939914   \n",
       "WALKING                    -0.314644         -0.023583         -0.273921   \n",
       "WALKING_DOWNSTAIRS          0.100766          0.059549         -0.190805   \n",
       "\n",
       "                    tBodyAcc-mad()-X  tBodyAcc-mad()-Y  tBodyAcc-mad()-Z  \\\n",
       "Activity                                                                   \n",
       "LAYING                     -0.963395         -0.944099         -0.947261   \n",
       "SITTING                    -0.985280         -0.934798         -0.936671   \n",
       "STANDING                   -0.987205         -0.933875         -0.937739   \n",
       "WALKING                    -0.352470         -0.055491         -0.274098   \n",
       "WALKING_DOWNSTAIRS          0.032426          0.003907         -0.214569   \n",
       "\n",
       "                    tBodyAcc-max()-X  ...  fBodyBodyGyroJerkMag-skewness()  \\\n",
       "Activity                              ...                                    \n",
       "LAYING                     -0.911610  ...                        -0.342490   \n",
       "SITTING                    -0.926703  ...                        -0.384740   \n",
       "STANDING                   -0.921265  ...                        -0.343769   \n",
       "WALKING                    -0.113458  ...                        -0.071308   \n",
       "WALKING_DOWNSTAIRS          0.417152  ...                        -0.277020   \n",
       "\n",
       "                    fBodyBodyGyroJerkMag-kurtosis()  \\\n",
       "Activity                                              \n",
       "LAYING                                    -0.658640   \n",
       "SITTING                                   -0.686795   \n",
       "STANDING                                  -0.654989   \n",
       "WALKING                                   -0.400268   \n",
       "WALKING_DOWNSTAIRS                        -0.618394   \n",
       "\n",
       "                    angle(tBodyAccMean,gravity)  \\\n",
       "Activity                                          \n",
       "LAYING                                 0.010366   \n",
       "SITTING                                0.012034   \n",
       "STANDING                               0.006991   \n",
       "WALKING                                0.014918   \n",
       "WALKING_DOWNSTAIRS                    -0.039692   \n",
       "\n",
       "                    angle(tBodyAccJerkMean),gravityMean)  \\\n",
       "Activity                                                   \n",
       "LAYING                                          0.016013   \n",
       "SITTING                                         0.002458   \n",
       "STANDING                                        0.010397   \n",
       "WALKING                                        -0.007011   \n",
       "WALKING_DOWNSTAIRS                             -0.018665   \n",
       "\n",
       "                    angle(tBodyGyroMean,gravityMean)  \\\n",
       "Activity                                               \n",
       "LAYING                                      0.022788   \n",
       "SITTING                                     0.013413   \n",
       "STANDING                                    0.004614   \n",
       "WALKING                                     0.011332   \n",
       "WALKING_DOWNSTAIRS                          0.203588   \n",
       "\n",
       "                    angle(tBodyGyroJerkMean,gravityMean)  \\\n",
       "Activity                                                   \n",
       "LAYING                                          0.009191   \n",
       "SITTING                                        -0.033260   \n",
       "STANDING                                        0.015957   \n",
       "WALKING                                        -0.019443   \n",
       "WALKING_DOWNSTAIRS                             -0.076029   \n",
       "\n",
       "                    angle(X,gravityMean)  angle(Y,gravityMean)  \\\n",
       "Activity                                                         \n",
       "LAYING                          0.520261             -0.435944   \n",
       "SITTING                        -0.706042              0.006140   \n",
       "STANDING                       -0.774143              0.209818   \n",
       "WALKING                        -0.761886              0.218599   \n",
       "WALKING_DOWNSTAIRS             -0.780873              0.200189   \n",
       "\n",
       "                    angle(Z,gravityMean)  SubjectID  \n",
       "Activity                                             \n",
       "LAYING                         -0.427749  16.643519  \n",
       "SITTING                        -0.089532  16.680360  \n",
       "STANDING                        0.031743  16.513116  \n",
       "WALKING                         0.059771  15.272938  \n",
       "WALKING_DOWNSTAIRS              0.055866  15.828592  \n",
       "\n",
       "[5 rows x 562 columns]"
      ]
     },
     "execution_count": 12,
     "metadata": {},
     "output_type": "execute_result"
    }
   ],
   "source": [
    "import numpy as np\n",
    "grouped = allXy.groupby(['Activity']).aggregate(np.mean)\n",
    "print(grouped.shape)\n",
    "grouped.to_csv(\"C:/HAR_grouped.csv\")\n",
    "grouped.head()"
   ]
  },
  {
   "cell_type": "markdown",
   "metadata": {},
   "source": [
   "# Data exploration\n",
    "* Check for null values"
   ]
  },
  {
   "cell_type": "code",
   "execution_count": 13,
   "metadata": {},
   "outputs": [
    {
     "data": {
      "text/plain": [
       "0"
      ]
     },
     "execution_count": 13,
     "metadata": {},
     "output_type": "execute_result"
    }
   ],
   "source": [
    "allXy.isnull().sum().sum()"
   ]
  },
  {
   "cell_type": "markdown",
   "metadata": {},
   "source": [
    "* Characterize distribution of the output variable"
   ]
  },
  {
   "cell_type": "code",
   "execution_count": 14,
   "metadata": {},
   "outputs": [
    {
     "data": {
      "text/plain": [
       "Activity\n",
       "LAYING                1\n",
       "SITTING               1\n",
       "STANDING              1\n",
       "WALKING               1\n",
       "WALKING_DOWNSTAIRS    1\n",
       "WALKING_UPSTAIRS      1\n",
       "dtype: int64"
      ]
     },
     "execution_count": 14,
     "metadata": {},
     "output_type": "execute_result"
    }
   ],
   "source": [
    "allXy.groupby(\"Activity\").size()\n",
    "grouped.groupby(\"Activity\").size()"
   ]
  },
  {
   "cell_type": "markdown",
   "metadata": {},
   "source": [
    "* Characterize distribution of input variables"
   ]
  },
  {
   "cell_type": "code",
   "execution_count": 15,
   "metadata": {},
   "outputs": [
    {
     "data": {
      "text/plain": [
       "tBodyAcc-mean()-X                       0.274347\n",
       "tBodyAcc-mean()-Y                      -0.017743\n",
       "tBodyAcc-mean()-Z                      -0.108925\n",
       "tBodyAcc-std()-X                       -0.607784\n",
       "tBodyAcc-std()-Y                       -0.510191\n",
       "                                          ...   \n",
       "angle(tBodyGyroMean,gravityMean)        0.017683\n",
       "angle(tBodyGyroJerkMean,gravityMean)   -0.009219\n",
       "angle(X,gravityMean)                   -0.496522\n",
       "angle(Y,gravityMean)                    0.063255\n",
       "angle(Z,gravityMean)                   -0.054284\n",
       "Length: 561, dtype: float64"
      ]
     },
     "execution_count": 15,
     "metadata": {},
     "output_type": "execute_result"
    }
   ],
   "source": [
    "allXy.iloc[:,:-2].mean()"
   ]
  },
  {
   "cell_type": "code",
   "execution_count": 16,
   "metadata": {},
   "outputs": [
    {
     "data": {
      "text/plain": [
       "tBodyAcc-mean()-X                       1.0\n",
       "tBodyAcc-mean()-Y                       1.0\n",
       "tBodyAcc-mean()-Z                       1.0\n",
       "tBodyAcc-std()-X                        1.0\n",
       "tBodyAcc-std()-Y                        1.0\n",
       "                                       ... \n",
       "angle(tBodyGyroMean,gravityMean)        1.0\n",
       "angle(tBodyGyroJerkMean,gravityMean)    1.0\n",
       "angle(X,gravityMean)                    1.0\n",
       "angle(Y,gravityMean)                    1.0\n",
       "angle(Z,gravityMean)                    1.0\n",
       "Length: 561, dtype: float64"
      ]
     },
     "execution_count": 16,
     "metadata": {},
     "output_type": "execute_result"
    }
   ],
   "source": [
    "allXy.iloc[:,:-2].max()"
   ]
  },
  {
   "cell_type": "code",
   "execution_count": 17,
   "metadata": {},
   "outputs": [
    {
     "data": {
      "text/plain": [
       "tBodyAcc-mean()-X                      -1.0\n",
       "tBodyAcc-mean()-Y                      -1.0\n",
       "tBodyAcc-mean()-Z                      -1.0\n",
       "tBodyAcc-std()-X                       -1.0\n",
       "tBodyAcc-std()-Y                       -1.0\n",
       "                                       ... \n",
       "angle(tBodyGyroMean,gravityMean)       -1.0\n",
       "angle(tBodyGyroJerkMean,gravityMean)   -1.0\n",
       "angle(X,gravityMean)                   -1.0\n",
       "angle(Y,gravityMean)                   -1.0\n",
       "angle(Z,gravityMean)                   -1.0\n",
       "Length: 561, dtype: float64"
      ]
     },
     "execution_count": 17,
     "metadata": {},
     "output_type": "execute_result"
    }
   ],
   "source": [
    "allXy.iloc[:,:-2].min()"
   ]
  },
  {
   "cell_type": "code",
   "execution_count": 18,
   "metadata": {},
   "outputs": [
    {
     "data": {
      "text/plain": [
       "tBodyAcc-mean()-X                       0.067628\n",
       "tBodyAcc-mean()-Y                       0.037128\n",
       "tBodyAcc-mean()-Z                       0.053033\n",
       "tBodyAcc-std()-X                        0.438694\n",
       "tBodyAcc-std()-Y                        0.500240\n",
       "                                          ...   \n",
       "angle(tBodyGyroMean,gravityMean)        0.616188\n",
       "angle(tBodyGyroJerkMean,gravityMean)    0.484770\n",
       "angle(X,gravityMean)                    0.511158\n",
       "angle(Y,gravityMean)                    0.305468\n",
       "angle(Z,gravityMean)                    0.268898\n",
       "Length: 561, dtype: float64"
      ]
     },
     "execution_count": 18,
     "metadata": {},
     "output_type": "execute_result"
    }
   ],
   "source": [
    "allXy.iloc[:,:-2].std()"
   ]
  },
  {
   "cell_type": "code",
   "execution_count": 19,
   "metadata": {},
   "outputs": [
    {
     "data": {
      "text/html": [
       "<div>\n",
       "<style scoped>\n",
       "    .dataframe tbody tr th:only-of-type {\n",
       "        vertical-align: middle;\n",
       "    }\n",
       "\n",
       "    .dataframe tbody tr th {\n",
       "        vertical-align: top;\n",
       "    }\n",
       "\n",
       "    .dataframe thead th {\n",
       "        text-align: right;\n",
       "    }\n",
       "</style>\n",
       "<table border=\"1\" class=\"dataframe\">\n",
       "  <thead>\n",
       "    <tr style=\"text-align: right;\">\n",
       "      <th></th>\n",
       "      <th>tBodyAcc-mean()-X</th>\n",
       "      <th>tBodyAcc-mean()-Y</th>\n",
       "      <th>tBodyAcc-mean()-Z</th>\n",
       "      <th>tBodyAcc-std()-X</th>\n",
       "      <th>tBodyAcc-std()-Y</th>\n",
       "      <th>tBodyAcc-std()-Z</th>\n",
       "      <th>tBodyAcc-mad()-X</th>\n",
       "      <th>tBodyAcc-mad()-Y</th>\n",
       "      <th>tBodyAcc-mad()-Z</th>\n",
       "      <th>tBodyAcc-max()-X</th>\n",
       "      <th>...</th>\n",
       "      <th>fBodyBodyGyroJerkMag-skewness()</th>\n",
       "      <th>fBodyBodyGyroJerkMag-kurtosis()</th>\n",
       "      <th>angle(tBodyAccMean,gravity)</th>\n",
       "      <th>angle(tBodyAccJerkMean),gravityMean)</th>\n",
       "      <th>angle(tBodyGyroMean,gravityMean)</th>\n",
       "      <th>angle(tBodyGyroJerkMean,gravityMean)</th>\n",
       "      <th>angle(X,gravityMean)</th>\n",
       "      <th>angle(Y,gravityMean)</th>\n",
       "      <th>angle(Z,gravityMean)</th>\n",
       "      <th>SubjectID</th>\n",
       "    </tr>\n",
       "  </thead>\n",
       "  <tbody>\n",
       "    <tr>\n",
       "      <td>count</td>\n",
       "      <td>10299.000000</td>\n",
       "      <td>10299.000000</td>\n",
       "      <td>10299.000000</td>\n",
       "      <td>10299.000000</td>\n",
       "      <td>10299.000000</td>\n",
       "      <td>10299.000000</td>\n",
       "      <td>10299.000000</td>\n",
       "      <td>10299.000000</td>\n",
       "      <td>10299.000000</td>\n",
       "      <td>10299.000000</td>\n",
       "      <td>...</td>\n",
       "      <td>10299.000000</td>\n",
       "      <td>10299.000000</td>\n",
       "      <td>10299.000000</td>\n",
       "      <td>10299.000000</td>\n",
       "      <td>10299.000000</td>\n",
       "      <td>10299.000000</td>\n",
       "      <td>10299.000000</td>\n",
       "      <td>10299.000000</td>\n",
       "      <td>10299.000000</td>\n",
       "      <td>10299.000000</td>\n",
       "    </tr>\n",
       "    <tr>\n",
       "      <td>mean</td>\n",
       "      <td>0.274347</td>\n",
       "      <td>-0.017743</td>\n",
       "      <td>-0.108925</td>\n",
       "      <td>-0.607784</td>\n",
       "      <td>-0.510191</td>\n",
       "      <td>-0.613064</td>\n",
       "      <td>-0.633593</td>\n",
       "      <td>-0.525697</td>\n",
       "      <td>-0.614989</td>\n",
       "      <td>-0.466732</td>\n",
       "      <td>...</td>\n",
       "      <td>-0.298592</td>\n",
       "      <td>-0.617700</td>\n",
       "      <td>0.007705</td>\n",
       "      <td>0.002648</td>\n",
       "      <td>0.017683</td>\n",
       "      <td>-0.009219</td>\n",
       "      <td>-0.496522</td>\n",
       "      <td>0.063255</td>\n",
       "      <td>-0.054284</td>\n",
       "      <td>16.146422</td>\n",
       "    </tr>\n",
       "    <tr>\n",
       "      <td>std</td>\n",
       "      <td>0.067628</td>\n",
       "      <td>0.037128</td>\n",
       "      <td>0.053033</td>\n",
       "      <td>0.438694</td>\n",
       "      <td>0.500240</td>\n",
       "      <td>0.403657</td>\n",
       "      <td>0.413333</td>\n",
       "      <td>0.484201</td>\n",
       "      <td>0.399034</td>\n",
       "      <td>0.538707</td>\n",
       "      <td>...</td>\n",
       "      <td>0.320199</td>\n",
       "      <td>0.308796</td>\n",
       "      <td>0.336591</td>\n",
       "      <td>0.447364</td>\n",
       "      <td>0.616188</td>\n",
       "      <td>0.484770</td>\n",
       "      <td>0.511158</td>\n",
       "      <td>0.305468</td>\n",
       "      <td>0.268898</td>\n",
       "      <td>8.679067</td>\n",
       "    </tr>\n",
       "    <tr>\n",
       "      <td>min</td>\n",
       "      <td>-1.000000</td>\n",
       "      <td>-1.000000</td>\n",
       "      <td>-1.000000</td>\n",
       "      <td>-1.000000</td>\n",
       "      <td>-1.000000</td>\n",
       "      <td>-1.000000</td>\n",
       "      <td>-1.000000</td>\n",
       "      <td>-1.000000</td>\n",
       "      <td>-1.000000</td>\n",
       "      <td>-1.000000</td>\n",
       "      <td>...</td>\n",
       "      <td>-1.000000</td>\n",
       "      <td>-1.000000</td>\n",
       "      <td>-1.000000</td>\n",
       "      <td>-1.000000</td>\n",
       "      <td>-1.000000</td>\n",
       "      <td>-1.000000</td>\n",
       "      <td>-1.000000</td>\n",
       "      <td>-1.000000</td>\n",
       "      <td>-1.000000</td>\n",
       "      <td>1.000000</td>\n",
       "    </tr>\n",
       "    <tr>\n",
       "      <td>25%</td>\n",
       "      <td>0.262625</td>\n",
       "      <td>-0.024902</td>\n",
       "      <td>-0.121019</td>\n",
       "      <td>-0.992360</td>\n",
       "      <td>-0.976990</td>\n",
       "      <td>-0.979137</td>\n",
       "      <td>-0.993293</td>\n",
       "      <td>-0.977017</td>\n",
       "      <td>-0.979064</td>\n",
       "      <td>-0.935788</td>\n",
       "      <td>...</td>\n",
       "      <td>-0.536174</td>\n",
       "      <td>-0.841847</td>\n",
       "      <td>-0.124694</td>\n",
       "      <td>-0.287031</td>\n",
       "      <td>-0.493108</td>\n",
       "      <td>-0.389041</td>\n",
       "      <td>-0.817288</td>\n",
       "      <td>0.002151</td>\n",
       "      <td>-0.131880</td>\n",
       "      <td>9.000000</td>\n",
       "    </tr>\n",
       "    <tr>\n",
       "      <td>50%</td>\n",
       "      <td>0.277174</td>\n",
       "      <td>-0.017162</td>\n",
       "      <td>-0.108596</td>\n",
       "      <td>-0.943030</td>\n",
       "      <td>-0.835032</td>\n",
       "      <td>-0.850773</td>\n",
       "      <td>-0.948244</td>\n",
       "      <td>-0.843670</td>\n",
       "      <td>-0.845068</td>\n",
       "      <td>-0.874825</td>\n",
       "      <td>...</td>\n",
       "      <td>-0.335160</td>\n",
       "      <td>-0.703402</td>\n",
       "      <td>0.008146</td>\n",
       "      <td>0.007668</td>\n",
       "      <td>0.017192</td>\n",
       "      <td>-0.007186</td>\n",
       "      <td>-0.715631</td>\n",
       "      <td>0.182028</td>\n",
       "      <td>-0.003882</td>\n",
       "      <td>17.000000</td>\n",
       "    </tr>\n",
       "    <tr>\n",
       "      <td>75%</td>\n",
       "      <td>0.288354</td>\n",
       "      <td>-0.010625</td>\n",
       "      <td>-0.097589</td>\n",
       "      <td>-0.250293</td>\n",
       "      <td>-0.057336</td>\n",
       "      <td>-0.278737</td>\n",
       "      <td>-0.302033</td>\n",
       "      <td>-0.087405</td>\n",
       "      <td>-0.288149</td>\n",
       "      <td>-0.014641</td>\n",
       "      <td>...</td>\n",
       "      <td>-0.113167</td>\n",
       "      <td>-0.487981</td>\n",
       "      <td>0.149005</td>\n",
       "      <td>0.291490</td>\n",
       "      <td>0.536137</td>\n",
       "      <td>0.365996</td>\n",
       "      <td>-0.521503</td>\n",
       "      <td>0.250790</td>\n",
       "      <td>0.102970</td>\n",
       "      <td>24.000000</td>\n",
       "    </tr>\n",
       "    <tr>\n",
       "      <td>max</td>\n",
       "      <td>1.000000</td>\n",
       "      <td>1.000000</td>\n",
       "      <td>1.000000</td>\n",
       "      <td>1.000000</td>\n",
       "      <td>1.000000</td>\n",
       "      <td>1.000000</td>\n",
       "      <td>1.000000</td>\n",
       "      <td>1.000000</td>\n",
       "      <td>1.000000</td>\n",
       "      <td>1.000000</td>\n",
       "      <td>...</td>\n",
       "      <td>1.000000</td>\n",
       "      <td>1.000000</td>\n",
       "      <td>1.000000</td>\n",
       "      <td>1.000000</td>\n",
       "      <td>1.000000</td>\n",
       "      <td>1.000000</td>\n",
       "      <td>1.000000</td>\n",
       "      <td>1.000000</td>\n",
       "      <td>1.000000</td>\n",
       "      <td>30.000000</td>\n",
       "    </tr>\n",
       "  </tbody>\n",
       "</table>\n",
       "<p>8 rows × 562 columns</p>\n",
       "</div>"
      ],
      "text/plain": [
       "       tBodyAcc-mean()-X  tBodyAcc-mean()-Y  tBodyAcc-mean()-Z  \\\n",
       "count       10299.000000       10299.000000       10299.000000   \n",
       "mean            0.274347          -0.017743          -0.108925   \n",
       "std             0.067628           0.037128           0.053033   \n",
       "min            -1.000000          -1.000000          -1.000000   \n",
       "25%             0.262625          -0.024902          -0.121019   \n",
       "50%             0.277174          -0.017162          -0.108596   \n",
       "75%             0.288354          -0.010625          -0.097589   \n",
       "max             1.000000           1.000000           1.000000   \n",
       "\n",
       "       tBodyAcc-std()-X  tBodyAcc-std()-Y  tBodyAcc-std()-Z  tBodyAcc-mad()-X  \\\n",
       "count      10299.000000      10299.000000      10299.000000      10299.000000   \n",
       "mean          -0.607784         -0.510191         -0.613064         -0.633593   \n",
       "std            0.438694          0.500240          0.403657          0.413333   \n",
       "min           -1.000000         -1.000000         -1.000000         -1.000000   \n",
       "25%           -0.992360         -0.976990         -0.979137         -0.993293   \n",
       "50%           -0.943030         -0.835032         -0.850773         -0.948244   \n",
       "75%           -0.250293         -0.057336         -0.278737         -0.302033   \n",
       "max            1.000000          1.000000          1.000000          1.000000   \n",
       "\n",
       "       tBodyAcc-mad()-Y  tBodyAcc-mad()-Z  tBodyAcc-max()-X  ...  \\\n",
       "count      10299.000000      10299.000000      10299.000000  ...   \n",
       "mean          -0.525697         -0.614989         -0.466732  ...   \n",
       "std            0.484201          0.399034          0.538707  ...   \n",
       "min           -1.000000         -1.000000         -1.000000  ...   \n",
       "25%           -0.977017         -0.979064         -0.935788  ...   \n",
       "50%           -0.843670         -0.845068         -0.874825  ...   \n",
       "75%           -0.087405         -0.288149         -0.014641  ...   \n",
       "max            1.000000          1.000000          1.000000  ...   \n",
       "\n",
       "       fBodyBodyGyroJerkMag-skewness()  fBodyBodyGyroJerkMag-kurtosis()  \\\n",
       "count                     10299.000000                     10299.000000   \n",
       "mean                         -0.298592                        -0.617700   \n",
       "std                           0.320199                         0.308796   \n",
       "min                          -1.000000                        -1.000000   \n",
       "25%                          -0.536174                        -0.841847   \n",
       "50%                          -0.335160                        -0.703402   \n",
       "75%                          -0.113167                        -0.487981   \n",
       "max                           1.000000                         1.000000   \n",
       "\n",
       "       angle(tBodyAccMean,gravity)  angle(tBodyAccJerkMean),gravityMean)  \\\n",
       "count                 10299.000000                          10299.000000   \n",
       "mean                      0.007705                              0.002648   \n",
       "std                       0.336591                              0.447364   \n",
       "min                      -1.000000                             -1.000000   \n",
       "25%                      -0.124694                             -0.287031   \n",
       "50%                       0.008146                              0.007668   \n",
       "75%                       0.149005                              0.291490   \n",
       "max                       1.000000                              1.000000   \n",
       "\n",
       "       angle(tBodyGyroMean,gravityMean)  angle(tBodyGyroJerkMean,gravityMean)  \\\n",
       "count                      10299.000000                          10299.000000   \n",
       "mean                           0.017683                             -0.009219   \n",
       "std                            0.616188                              0.484770   \n",
       "min                           -1.000000                             -1.000000   \n",
       "25%                           -0.493108                             -0.389041   \n",
       "50%                            0.017192                             -0.007186   \n",
       "75%                            0.536137                              0.365996   \n",
       "max                            1.000000                              1.000000   \n",
       "\n",
       "       angle(X,gravityMean)  angle(Y,gravityMean)  angle(Z,gravityMean)  \\\n",
       "count          10299.000000          10299.000000          10299.000000   \n",
       "mean              -0.496522              0.063255             -0.054284   \n",
       "std                0.511158              0.305468              0.268898   \n",
       "min               -1.000000             -1.000000             -1.000000   \n",
       "25%               -0.817288              0.002151             -0.131880   \n",
       "50%               -0.715631              0.182028             -0.003882   \n",
       "75%               -0.521503              0.250790              0.102970   \n",
       "max                1.000000              1.000000              1.000000   \n",
       "\n",
       "          SubjectID  \n",
       "count  10299.000000  \n",
       "mean      16.146422  \n",
       "std        8.679067  \n",
       "min        1.000000  \n",
       "25%        9.000000  \n",
       "50%       17.000000  \n",
       "75%       24.000000  \n",
       "max       30.000000  \n",
       "\n",
       "[8 rows x 562 columns]"
      ]
     },
     "execution_count": 19,
     "metadata": {},
     "output_type": "execute_result"
    }
   ],
   "source": [
    "allXy.describe()"
   ]
  },
  {
   "cell_type": "markdown",
   "metadata": {},
   "source": [
    "# Dimensionality reduction"
   ]
  },
  {
   "cell_type": "code",
   "execution_count": 317,
   "metadata": {},
   "outputs": [],
   "source": [
    "corr = allXy.corr()"
   ]
  },
  {
   "cell_type": "code",
   "execution_count": 318,
   "metadata": {},
   "outputs": [
    {
     "data": {
      "text/html": [
       "<div>\n",
       "<style scoped>\n",
       "    .dataframe tbody tr th:only-of-type {\n",
       "        vertical-align: middle;\n",
       "    }\n",
       "\n",
       "    .dataframe tbody tr th {\n",
       "        vertical-align: top;\n",
       "    }\n",
       "\n",
       "    .dataframe thead th {\n",
       "        text-align: right;\n",
       "    }\n",
       "</style>\n",
       "<table border=\"1\" class=\"dataframe\">\n",
       "  <thead>\n",
       "    <tr style=\"text-align: right;\">\n",
       "      <th></th>\n",
       "      <th>tBodyAcc-mean()-X</th>\n",
       "      <th>tBodyAcc-mean()-Y</th>\n",
       "      <th>tBodyAcc-mean()-Z</th>\n",
       "      <th>tBodyAcc-std()-X</th>\n",
       "      <th>tBodyAcc-std()-Y</th>\n",
       "      <th>tBodyAcc-std()-Z</th>\n",
       "      <th>tBodyAcc-mad()-X</th>\n",
       "      <th>tBodyAcc-mad()-Y</th>\n",
       "      <th>tBodyAcc-mad()-Z</th>\n",
       "      <th>tBodyAcc-max()-X</th>\n",
       "      <th>...</th>\n",
       "      <th>fBodyBodyGyroJerkMag-skewness()</th>\n",
       "      <th>fBodyBodyGyroJerkMag-kurtosis()</th>\n",
       "      <th>angle(tBodyAccMean,gravity)</th>\n",
       "      <th>angle(tBodyAccJerkMean),gravityMean)</th>\n",
       "      <th>angle(tBodyGyroMean,gravityMean)</th>\n",
       "      <th>angle(tBodyGyroJerkMean,gravityMean)</th>\n",
       "      <th>angle(X,gravityMean)</th>\n",
       "      <th>angle(Y,gravityMean)</th>\n",
       "      <th>angle(Z,gravityMean)</th>\n",
       "      <th>SubjectID</th>\n",
       "    </tr>\n",
       "  </thead>\n",
       "  <tbody>\n",
       "    <tr>\n",
       "      <td>tBodyAcc-mean()-X</td>\n",
       "      <td>1.000000</td>\n",
       "      <td>0.128037</td>\n",
       "      <td>-0.230302</td>\n",
       "      <td>0.004590</td>\n",
       "      <td>-0.016785</td>\n",
       "      <td>-0.036071</td>\n",
       "      <td>0.010303</td>\n",
       "      <td>-0.017488</td>\n",
       "      <td>-0.038805</td>\n",
       "      <td>0.046943</td>\n",
       "      <td>...</td>\n",
       "      <td>-0.006179</td>\n",
       "      <td>-0.002255</td>\n",
       "      <td>-0.552989</td>\n",
       "      <td>0.015754</td>\n",
       "      <td>0.036047</td>\n",
       "      <td>0.034296</td>\n",
       "      <td>-0.041021</td>\n",
       "      <td>0.034053</td>\n",
       "      <td>0.030656</td>\n",
       "      <td>0.020345</td>\n",
       "    </tr>\n",
       "    <tr>\n",
       "      <td>tBodyAcc-mean()-Y</td>\n",
       "      <td>0.128037</td>\n",
       "      <td>1.000000</td>\n",
       "      <td>-0.029882</td>\n",
       "      <td>-0.046352</td>\n",
       "      <td>-0.046996</td>\n",
       "      <td>-0.054153</td>\n",
       "      <td>-0.045247</td>\n",
       "      <td>-0.047673</td>\n",
       "      <td>-0.055524</td>\n",
       "      <td>-0.039445</td>\n",
       "      <td>...</td>\n",
       "      <td>-0.000649</td>\n",
       "      <td>-0.002842</td>\n",
       "      <td>0.077750</td>\n",
       "      <td>-0.027567</td>\n",
       "      <td>0.013241</td>\n",
       "      <td>0.077627</td>\n",
       "      <td>-0.007513</td>\n",
       "      <td>-0.005616</td>\n",
       "      <td>-0.016233</td>\n",
       "      <td>-0.001577</td>\n",
       "    </tr>\n",
       "    <tr>\n",
       "      <td>tBodyAcc-mean()-Z</td>\n",
       "      <td>-0.230302</td>\n",
       "      <td>-0.029882</td>\n",
       "      <td>1.000000</td>\n",
       "      <td>-0.024185</td>\n",
       "      <td>-0.023745</td>\n",
       "      <td>-0.015632</td>\n",
       "      <td>-0.022872</td>\n",
       "      <td>-0.022966</td>\n",
       "      <td>-0.009577</td>\n",
       "      <td>-0.040218</td>\n",
       "      <td>...</td>\n",
       "      <td>0.023050</td>\n",
       "      <td>0.023122</td>\n",
       "      <td>0.055020</td>\n",
       "      <td>-0.042083</td>\n",
       "      <td>-0.066233</td>\n",
       "      <td>-0.030748</td>\n",
       "      <td>0.003215</td>\n",
       "      <td>-0.012986</td>\n",
       "      <td>-0.028406</td>\n",
       "      <td>0.001981</td>\n",
       "    </tr>\n",
       "    <tr>\n",
       "      <td>tBodyAcc-std()-X</td>\n",
       "      <td>0.004590</td>\n",
       "      <td>-0.046352</td>\n",
       "      <td>-0.024185</td>\n",
       "      <td>1.000000</td>\n",
       "      <td>0.922525</td>\n",
       "      <td>0.861910</td>\n",
       "      <td>0.998662</td>\n",
       "      <td>0.916087</td>\n",
       "      <td>0.856497</td>\n",
       "      <td>0.981226</td>\n",
       "      <td>...</td>\n",
       "      <td>0.165552</td>\n",
       "      <td>0.135171</td>\n",
       "      <td>-0.034334</td>\n",
       "      <td>-0.017096</td>\n",
       "      <td>0.027464</td>\n",
       "      <td>-0.027123</td>\n",
       "      <td>-0.374104</td>\n",
       "      <td>0.449425</td>\n",
       "      <td>0.393063</td>\n",
       "      <td>-0.061397</td>\n",
       "    </tr>\n",
       "    <tr>\n",
       "      <td>tBodyAcc-std()-Y</td>\n",
       "      <td>-0.016785</td>\n",
       "      <td>-0.046996</td>\n",
       "      <td>-0.023745</td>\n",
       "      <td>0.922525</td>\n",
       "      <td>1.000000</td>\n",
       "      <td>0.888259</td>\n",
       "      <td>0.918561</td>\n",
       "      <td>0.997510</td>\n",
       "      <td>0.887052</td>\n",
       "      <td>0.911137</td>\n",
       "      <td>...</td>\n",
       "      <td>0.220279</td>\n",
       "      <td>0.191164</td>\n",
       "      <td>-0.020806</td>\n",
       "      <td>-0.006605</td>\n",
       "      <td>0.001902</td>\n",
       "      <td>-0.015784</td>\n",
       "      <td>-0.381391</td>\n",
       "      <td>0.506106</td>\n",
       "      <td>0.425511</td>\n",
       "      <td>-0.094486</td>\n",
       "    </tr>\n",
       "    <tr>\n",
       "      <td>...</td>\n",
       "      <td>...</td>\n",
       "      <td>...</td>\n",
       "      <td>...</td>\n",
       "      <td>...</td>\n",
       "      <td>...</td>\n",
       "      <td>...</td>\n",
       "      <td>...</td>\n",
       "      <td>...</td>\n",
       "      <td>...</td>\n",
       "      <td>...</td>\n",
       "      <td>...</td>\n",
       "      <td>...</td>\n",
       "      <td>...</td>\n",
       "      <td>...</td>\n",
       "      <td>...</td>\n",
       "      <td>...</td>\n",
       "      <td>...</td>\n",
       "      <td>...</td>\n",
       "      <td>...</td>\n",
       "      <td>...</td>\n",
       "      <td>...</td>\n",
       "    </tr>\n",
       "    <tr>\n",
       "      <td>angle(tBodyGyroJerkMean,gravityMean)</td>\n",
       "      <td>0.034296</td>\n",
       "      <td>0.077627</td>\n",
       "      <td>-0.030748</td>\n",
       "      <td>-0.027123</td>\n",
       "      <td>-0.015784</td>\n",
       "      <td>-0.012196</td>\n",
       "      <td>-0.027097</td>\n",
       "      <td>-0.013411</td>\n",
       "      <td>-0.012800</td>\n",
       "      <td>-0.030908</td>\n",
       "      <td>...</td>\n",
       "      <td>-0.013065</td>\n",
       "      <td>-0.011829</td>\n",
       "      <td>-0.027478</td>\n",
       "      <td>0.023605</td>\n",
       "      <td>-0.112454</td>\n",
       "      <td>1.000000</td>\n",
       "      <td>0.024822</td>\n",
       "      <td>-0.004582</td>\n",
       "      <td>-0.012549</td>\n",
       "      <td>0.008301</td>\n",
       "    </tr>\n",
       "    <tr>\n",
       "      <td>angle(X,gravityMean)</td>\n",
       "      <td>-0.041021</td>\n",
       "      <td>-0.007513</td>\n",
       "      <td>0.003215</td>\n",
       "      <td>-0.374104</td>\n",
       "      <td>-0.381391</td>\n",
       "      <td>-0.353271</td>\n",
       "      <td>-0.371168</td>\n",
       "      <td>-0.378013</td>\n",
       "      <td>-0.355836</td>\n",
       "      <td>-0.384244</td>\n",
       "      <td>...</td>\n",
       "      <td>-0.085226</td>\n",
       "      <td>-0.081971</td>\n",
       "      <td>0.008050</td>\n",
       "      <td>0.017534</td>\n",
       "      <td>-0.007095</td>\n",
       "      <td>0.024822</td>\n",
       "      <td>1.000000</td>\n",
       "      <td>-0.748249</td>\n",
       "      <td>-0.635231</td>\n",
       "      <td>0.025003</td>\n",
       "    </tr>\n",
       "    <tr>\n",
       "      <td>angle(Y,gravityMean)</td>\n",
       "      <td>0.034053</td>\n",
       "      <td>-0.005616</td>\n",
       "      <td>-0.012986</td>\n",
       "      <td>0.449425</td>\n",
       "      <td>0.506106</td>\n",
       "      <td>0.459092</td>\n",
       "      <td>0.444926</td>\n",
       "      <td>0.507947</td>\n",
       "      <td>0.460345</td>\n",
       "      <td>0.458832</td>\n",
       "      <td>...</td>\n",
       "      <td>0.087671</td>\n",
       "      <td>0.078010</td>\n",
       "      <td>0.003082</td>\n",
       "      <td>-0.007256</td>\n",
       "      <td>-0.006444</td>\n",
       "      <td>-0.004582</td>\n",
       "      <td>-0.748249</td>\n",
       "      <td>1.000000</td>\n",
       "      <td>0.545614</td>\n",
       "      <td>-0.024190</td>\n",
       "    </tr>\n",
       "    <tr>\n",
       "      <td>angle(Z,gravityMean)</td>\n",
       "      <td>0.030656</td>\n",
       "      <td>-0.016233</td>\n",
       "      <td>-0.028406</td>\n",
       "      <td>0.393063</td>\n",
       "      <td>0.425511</td>\n",
       "      <td>0.483424</td>\n",
       "      <td>0.389481</td>\n",
       "      <td>0.424479</td>\n",
       "      <td>0.480032</td>\n",
       "      <td>0.402873</td>\n",
       "      <td>...</td>\n",
       "      <td>0.058759</td>\n",
       "      <td>0.054008</td>\n",
       "      <td>-0.003242</td>\n",
       "      <td>-0.013130</td>\n",
       "      <td>-0.015380</td>\n",
       "      <td>-0.012549</td>\n",
       "      <td>-0.635231</td>\n",
       "      <td>0.545614</td>\n",
       "      <td>1.000000</td>\n",
       "      <td>-0.067160</td>\n",
       "    </tr>\n",
       "    <tr>\n",
       "      <td>SubjectID</td>\n",
       "      <td>0.020345</td>\n",
       "      <td>-0.001577</td>\n",
       "      <td>0.001981</td>\n",
       "      <td>-0.061397</td>\n",
       "      <td>-0.094486</td>\n",
       "      <td>-0.036750</td>\n",
       "      <td>-0.059112</td>\n",
       "      <td>-0.094315</td>\n",
       "      <td>-0.042434</td>\n",
       "      <td>-0.058773</td>\n",
       "      <td>...</td>\n",
       "      <td>-0.050517</td>\n",
       "      <td>-0.044378</td>\n",
       "      <td>-0.004619</td>\n",
       "      <td>0.008910</td>\n",
       "      <td>-0.018009</td>\n",
       "      <td>0.008301</td>\n",
       "      <td>0.025003</td>\n",
       "      <td>-0.024190</td>\n",
       "      <td>-0.067160</td>\n",
       "      <td>1.000000</td>\n",
       "    </tr>\n",
       "  </tbody>\n",
       "</table>\n",
       "<p>562 rows × 562 columns</p>\n",
       "</div>"
      ],
      "text/plain": [
       "                                      tBodyAcc-mean()-X  tBodyAcc-mean()-Y  \\\n",
       "tBodyAcc-mean()-X                              1.000000           0.128037   \n",
       "tBodyAcc-mean()-Y                              0.128037           1.000000   \n",
       "tBodyAcc-mean()-Z                             -0.230302          -0.029882   \n",
       "tBodyAcc-std()-X                               0.004590          -0.046352   \n",
       "tBodyAcc-std()-Y                              -0.016785          -0.046996   \n",
       "...                                                 ...                ...   \n",
       "angle(tBodyGyroJerkMean,gravityMean)           0.034296           0.077627   \n",
       "angle(X,gravityMean)                          -0.041021          -0.007513   \n",
       "angle(Y,gravityMean)                           0.034053          -0.005616   \n",
       "angle(Z,gravityMean)                           0.030656          -0.016233   \n",
       "SubjectID                                      0.020345          -0.001577   \n",
       "\n",
       "                                      tBodyAcc-mean()-Z  tBodyAcc-std()-X  \\\n",
       "tBodyAcc-mean()-X                             -0.230302          0.004590   \n",
       "tBodyAcc-mean()-Y                             -0.029882         -0.046352   \n",
       "tBodyAcc-mean()-Z                              1.000000         -0.024185   \n",
       "tBodyAcc-std()-X                              -0.024185          1.000000   \n",
       "tBodyAcc-std()-Y                              -0.023745          0.922525   \n",
       "...                                                 ...               ...   \n",
       "angle(tBodyGyroJerkMean,gravityMean)          -0.030748         -0.027123   \n",
       "angle(X,gravityMean)                           0.003215         -0.374104   \n",
       "angle(Y,gravityMean)                          -0.012986          0.449425   \n",
       "angle(Z,gravityMean)                          -0.028406          0.393063   \n",
       "SubjectID                                      0.001981         -0.061397   \n",
       "\n",
       "                                      tBodyAcc-std()-Y  tBodyAcc-std()-Z  \\\n",
       "tBodyAcc-mean()-X                            -0.016785         -0.036071   \n",
       "tBodyAcc-mean()-Y                            -0.046996         -0.054153   \n",
       "tBodyAcc-mean()-Z                            -0.023745         -0.015632   \n",
       "tBodyAcc-std()-X                              0.922525          0.861910   \n",
       "tBodyAcc-std()-Y                              1.000000          0.888259   \n",
       "...                                                ...               ...   \n",
       "angle(tBodyGyroJerkMean,gravityMean)         -0.015784         -0.012196   \n",
       "angle(X,gravityMean)                         -0.381391         -0.353271   \n",
       "angle(Y,gravityMean)                          0.506106          0.459092   \n",
       "angle(Z,gravityMean)                          0.425511          0.483424   \n",
       "SubjectID                                    -0.094486         -0.036750   \n",
       "\n",
       "                                      tBodyAcc-mad()-X  tBodyAcc-mad()-Y  \\\n",
       "tBodyAcc-mean()-X                             0.010303         -0.017488   \n",
       "tBodyAcc-mean()-Y                            -0.045247         -0.047673   \n",
       "tBodyAcc-mean()-Z                            -0.022872         -0.022966   \n",
       "tBodyAcc-std()-X                              0.998662          0.916087   \n",
       "tBodyAcc-std()-Y                              0.918561          0.997510   \n",
       "...                                                ...               ...   \n",
       "angle(tBodyGyroJerkMean,gravityMean)         -0.027097         -0.013411   \n",
       "angle(X,gravityMean)                         -0.371168         -0.378013   \n",
       "angle(Y,gravityMean)                          0.444926          0.507947   \n",
       "angle(Z,gravityMean)                          0.389481          0.424479   \n",
       "SubjectID                                    -0.059112         -0.094315   \n",
       "\n",
       "                                      tBodyAcc-mad()-Z  tBodyAcc-max()-X  ...  \\\n",
       "tBodyAcc-mean()-X                            -0.038805          0.046943  ...   \n",
       "tBodyAcc-mean()-Y                            -0.055524         -0.039445  ...   \n",
       "tBodyAcc-mean()-Z                            -0.009577         -0.040218  ...   \n",
       "tBodyAcc-std()-X                              0.856497          0.981226  ...   \n",
       "tBodyAcc-std()-Y                              0.887052          0.911137  ...   \n",
       "...                                                ...               ...  ...   \n",
       "angle(tBodyGyroJerkMean,gravityMean)         -0.012800         -0.030908  ...   \n",
       "angle(X,gravityMean)                         -0.355836         -0.384244  ...   \n",
       "angle(Y,gravityMean)                          0.460345          0.458832  ...   \n",
       "angle(Z,gravityMean)                          0.480032          0.402873  ...   \n",
       "SubjectID                                    -0.042434         -0.058773  ...   \n",
       "\n",
       "                                      fBodyBodyGyroJerkMag-skewness()  \\\n",
       "tBodyAcc-mean()-X                                           -0.006179   \n",
       "tBodyAcc-mean()-Y                                           -0.000649   \n",
       "tBodyAcc-mean()-Z                                            0.023050   \n",
       "tBodyAcc-std()-X                                             0.165552   \n",
       "tBodyAcc-std()-Y                                             0.220279   \n",
       "...                                                               ...   \n",
       "angle(tBodyGyroJerkMean,gravityMean)                        -0.013065   \n",
       "angle(X,gravityMean)                                        -0.085226   \n",
       "angle(Y,gravityMean)                                         0.087671   \n",
       "angle(Z,gravityMean)                                         0.058759   \n",
       "SubjectID                                                   -0.050517   \n",
       "\n",
       "                                      fBodyBodyGyroJerkMag-kurtosis()  \\\n",
       "tBodyAcc-mean()-X                                           -0.002255   \n",
       "tBodyAcc-mean()-Y                                           -0.002842   \n",
       "tBodyAcc-mean()-Z                                            0.023122   \n",
       "tBodyAcc-std()-X                                             0.135171   \n",
       "tBodyAcc-std()-Y                                             0.191164   \n",
       "...                                                               ...   \n",
       "angle(tBodyGyroJerkMean,gravityMean)                        -0.011829   \n",
       "angle(X,gravityMean)                                        -0.081971   \n",
       "angle(Y,gravityMean)                                         0.078010   \n",
       "angle(Z,gravityMean)                                         0.054008   \n",
       "SubjectID                                                   -0.044378   \n",
       "\n",
       "                                      angle(tBodyAccMean,gravity)  \\\n",
       "tBodyAcc-mean()-X                                       -0.552989   \n",
       "tBodyAcc-mean()-Y                                        0.077750   \n",
       "tBodyAcc-mean()-Z                                        0.055020   \n",
       "tBodyAcc-std()-X                                        -0.034334   \n",
       "tBodyAcc-std()-Y                                        -0.020806   \n",
       "...                                                           ...   \n",
       "angle(tBodyGyroJerkMean,gravityMean)                    -0.027478   \n",
       "angle(X,gravityMean)                                     0.008050   \n",
       "angle(Y,gravityMean)                                     0.003082   \n",
       "angle(Z,gravityMean)                                    -0.003242   \n",
       "SubjectID                                               -0.004619   \n",
       "\n",
       "                                      angle(tBodyAccJerkMean),gravityMean)  \\\n",
       "tBodyAcc-mean()-X                                                 0.015754   \n",
       "tBodyAcc-mean()-Y                                                -0.027567   \n",
       "tBodyAcc-mean()-Z                                                -0.042083   \n",
       "tBodyAcc-std()-X                                                 -0.017096   \n",
       "tBodyAcc-std()-Y                                                 -0.006605   \n",
       "...                                                                    ...   \n",
       "angle(tBodyGyroJerkMean,gravityMean)                              0.023605   \n",
       "angle(X,gravityMean)                                              0.017534   \n",
       "angle(Y,gravityMean)                                             -0.007256   \n",
       "angle(Z,gravityMean)                                             -0.013130   \n",
       "SubjectID                                                         0.008910   \n",
       "\n",
       "                                      angle(tBodyGyroMean,gravityMean)  \\\n",
       "tBodyAcc-mean()-X                                             0.036047   \n",
       "tBodyAcc-mean()-Y                                             0.013241   \n",
       "tBodyAcc-mean()-Z                                            -0.066233   \n",
       "tBodyAcc-std()-X                                              0.027464   \n",
       "tBodyAcc-std()-Y                                              0.001902   \n",
       "...                                                                ...   \n",
       "angle(tBodyGyroJerkMean,gravityMean)                         -0.112454   \n",
       "angle(X,gravityMean)                                         -0.007095   \n",
       "angle(Y,gravityMean)                                         -0.006444   \n",
       "angle(Z,gravityMean)                                         -0.015380   \n",
       "SubjectID                                                    -0.018009   \n",
       "\n",
       "                                      angle(tBodyGyroJerkMean,gravityMean)  \\\n",
       "tBodyAcc-mean()-X                                                 0.034296   \n",
       "tBodyAcc-mean()-Y                                                 0.077627   \n",
       "tBodyAcc-mean()-Z                                                -0.030748   \n",
       "tBodyAcc-std()-X                                                 -0.027123   \n",
       "tBodyAcc-std()-Y                                                 -0.015784   \n",
       "...                                                                    ...   \n",
       "angle(tBodyGyroJerkMean,gravityMean)                              1.000000   \n",
       "angle(X,gravityMean)                                              0.024822   \n",
       "angle(Y,gravityMean)                                             -0.004582   \n",
       "angle(Z,gravityMean)                                             -0.012549   \n",
       "SubjectID                                                         0.008301   \n",
       "\n",
       "                                      angle(X,gravityMean)  \\\n",
       "tBodyAcc-mean()-X                                -0.041021   \n",
       "tBodyAcc-mean()-Y                                -0.007513   \n",
       "tBodyAcc-mean()-Z                                 0.003215   \n",
       "tBodyAcc-std()-X                                 -0.374104   \n",
       "tBodyAcc-std()-Y                                 -0.381391   \n",
       "...                                                    ...   \n",
       "angle(tBodyGyroJerkMean,gravityMean)              0.024822   \n",
       "angle(X,gravityMean)                              1.000000   \n",
       "angle(Y,gravityMean)                             -0.748249   \n",
       "angle(Z,gravityMean)                             -0.635231   \n",
       "SubjectID                                         0.025003   \n",
       "\n",
       "                                      angle(Y,gravityMean)  \\\n",
       "tBodyAcc-mean()-X                                 0.034053   \n",
       "tBodyAcc-mean()-Y                                -0.005616   \n",
       "tBodyAcc-mean()-Z                                -0.012986   \n",
       "tBodyAcc-std()-X                                  0.449425   \n",
       "tBodyAcc-std()-Y                                  0.506106   \n",
       "...                                                    ...   \n",
       "angle(tBodyGyroJerkMean,gravityMean)             -0.004582   \n",
       "angle(X,gravityMean)                             -0.748249   \n",
       "angle(Y,gravityMean)                              1.000000   \n",
       "angle(Z,gravityMean)                              0.545614   \n",
       "SubjectID                                        -0.024190   \n",
       "\n",
       "                                      angle(Z,gravityMean)  SubjectID  \n",
       "tBodyAcc-mean()-X                                 0.030656   0.020345  \n",
       "tBodyAcc-mean()-Y                                -0.016233  -0.001577  \n",
       "tBodyAcc-mean()-Z                                -0.028406   0.001981  \n",
       "tBodyAcc-std()-X                                  0.393063  -0.061397  \n",
       "tBodyAcc-std()-Y                                  0.425511  -0.094486  \n",
       "...                                                    ...        ...  \n",
       "angle(tBodyGyroJerkMean,gravityMean)             -0.012549   0.008301  \n",
       "angle(X,gravityMean)                             -0.635231   0.025003  \n",
       "angle(Y,gravityMean)                              0.545614  -0.024190  \n",
       "angle(Z,gravityMean)                              1.000000  -0.067160  \n",
       "SubjectID                                        -0.067160   1.000000  \n",
       "\n",
       "[562 rows x 562 columns]"
      ]
     },
     "execution_count": 318,
     "metadata": {},
     "output_type": "execute_result"
    }
   ],
   "source": [
    "corr"
   ]
  },
  {
   "cell_type": "markdown",
   "metadata": {},
   "source": [
    "### PCA\n",
    "* Standardize data"
   ]
  },
  {
   "cell_type": "code",
   "execution_count": 319,
   "metadata": {},
   "outputs": [],
   "source": [
    "from sklearn import preprocessing\n",
    "scaled = preprocessing.scale(allXy.iloc[:,:-2])"
   ]
  },
  {
   "cell_type": "markdown",
   "metadata": {},
   "source": [
    "* PCA"
   ]
  },
  {
   "cell_type": "code",
   "execution_count": 320,
   "metadata": {},
   "outputs": [
    {
     "name": "stdout",
     "output_type": "stream",
     "text": [
      "[[ 0.00032202 -0.00265502 -0.00183102 ... -0.02322551  0.028696\n",
      "   0.02622314]\n",
      " [ 0.01667862  0.00050924 -0.00496277 ...  0.0248285  -0.04036438\n",
      "  -0.02188039]\n",
      " [-0.03345163  0.00185355  0.0090158  ...  0.09272471 -0.06636146\n",
      "  -0.0442714 ]\n",
      " ...\n",
      " [-0.07563148  0.01388375  0.03478885 ... -0.03119468  0.04829835\n",
      "   0.01886985]\n",
      " [-0.07206842 -0.00524786  0.01974199 ...  0.01674543 -0.02933612\n",
      "   0.00958309]\n",
      " [-0.05091365 -0.00115625  0.03978647 ...  0.03131667 -0.04949016\n",
      "   0.00199879]]\n"
     ]
    }
   ],
   "source": [
    "from sklearn.decomposition import PCA\n",
    "n = 10\n",
    "pca = PCA(n_components=n)\n",
    "pca.fit(scaled)\n",
    "print(pca.components_)\n",
    "X_reduced = pca.transform(scaled)"
   ]
  },
  {
   "cell_type": "markdown",
   "metadata": {},
   "source": [
    "* Variance explained"
   ]
  },
  {
   "cell_type": "code",
   "execution_count": 321,
   "metadata": {},
   "outputs": [
    {
     "name": "stdout",
     "output_type": "stream",
     "text": [
      "Var. explained: [0.50738221 0.06239186 0.02692564 0.02452871 0.01888936 0.01631395\n",
      " 0.01414533 0.0121621  0.00985244 0.00949217]\n"
     ]
    },
    {
     "data": {
      "image/png": "[encoded data removed]",
      "text/plain": [
       "<Figure size 432x288 with 1 Axes>"
      ]
     },
     "metadata": {
      "needs_background": "light"
     },
     "output_type": "display_data"
    }
   ],
   "source": [
    "import matplotlib.pyplot as plt\n",
    "print('Var. explained: %s'% str(pca.explained_variance_ratio_))\n",
    "plt.bar(range(n), pca.explained_variance_ratio_*100)\n",
    "plt.xticks(range(n), ['PC'+str(i) for i in range(1,n+1)])\n",
    "plt.title(\"Explained variance\")\n",
    "plt.ylabel(\"Percentage\")\n",
    "plt.show()"
   ]
  },
  {
   "cell_type": "markdown",
   "metadata": {},
   "source": [
    "* Scores plot – PC1 + PC2"
   ]
  },
  {
   "cell_type": "code",
   "execution_count": 322,
   "metadata": {},
   "outputs": [
    {
     "data": {
      "image/png": "[encoded data removed]",
      "text/plain": [
       "<Figure size 432x288 with 1 Axes>"
      ]
     },
     "metadata": {
      "needs_background": "light"
     },
     "output_type": "display_data"
    }
   ],
   "source": [
    "for act in allXy['Activity'].unique():\n",
    " sp = allXy.index[allXy['Activity']==act]-1\n",
    " plt.plot(X_reduced[sp,0],X_reduced[sp,1],'o',label=act)\n",
    "plt.title(\"PCA\")\n",
    "plt.legend(loc='best', shadow=False)\n",
    "plt.show()"
   ]
  },
  {
   "cell_type": "code",
   "execution_count": 323,
   "metadata": {},
   "outputs": [
    {
     "name": "stdout",
     "output_type": "stream",
     "text": [
      "Var. explained: [0.78571007 0.09901985 0.05655302]\n"
     ]
    },
    {
     "data": {
      "image/png": "[encoded data removed]",
      "text/plain": [
       "<Figure size 432x288 with 1 Axes>"
      ]
     },
     "metadata": {
      "needs_background": "light"
     },
     "output_type": "display_data"
    }
   ],
   "source": [
    "# dados agrupados\n",
    "\n",
    "scaled_gp = preprocessing.scale(grouped.iloc[:,:-2])\n",
    "n=3\n",
    "pca_gp = PCA(n_components=n)\n",
    "pca_gp.fit(scaled_gp)\n",
    "X_reduced_gp = pca_gp.transform(scaled_gp)\n",
    "\n",
    "print('Var. explained: %s'% str(pca_gp.explained_variance_ratio_))\n",
    "plt.bar(range(n), pca_gp.explained_variance_ratio_*100)\n",
    "plt.xticks(range(n), ['PC'+str(i) for i in range(1,n+1)])\n",
    "plt.title(\"Explained variance\")\n",
    "plt.ylabel(\"Percentage\")\n",
    "plt.show()\n",
    "\n",
    "#for act in grouped['Activity'].unique():\n",
    "# sp = grouped.index[grouped['Activity']==act]-1\n",
    "# plt.plot(X_reduced_gp[sp,0],X_reduced_gp[sp,1],'o',label=act)\n",
    "# plt.title(\"PCA\")\n",
    "# plt.legend(loc='best', shadow=False)\n",
    "# plt.show()"
   ]
  },
  {
   "cell_type": "code",
   "execution_count": 324,
   "metadata": {},
   "outputs": [
    {
     "name": "stderr",
     "output_type": "stream",
     "text": [
      "C:\\ipykernel_launcher.py:6: UserWarning: This figure includes Axes that are not compatible with tight_layout, so results might be incorrect.\n",
      "  \n"
     ]
    },
    {
     "data": {
      "image/png": "[encoded data removed]",
      "text/plain": [
       "<Figure size 1152x144 with 2 Axes>"
      ]
     },
     "metadata": {
      "needs_background": "light"
     },
     "output_type": "display_data"
    }
   ],
   "source": [
    "plt.matshow(pca.components_,cmap='viridis')\n",
    "#plt.figure(figsize=(10,20))\n",
    "plt.yticks([0,1,2],['1st Comp','2nd Comp','3rd Comp'],fontsize=10)\n",
    "plt.colorbar()\n",
    "plt.xticks(range(len(features)),features,rotation=65,ha='left')\n",
    "plt.tight_layout()\n",
    "plt.show() "
   ]
  },
  {
   "cell_type": "code",
   "execution_count": 325,
   "metadata": {},
   "outputs": [
    {
     "data": {
      "image/png": "[encoded data removed]",
      "text/plain": [
       "<Figure size 432x288 with 2 Axes>"
      ]
     },
     "metadata": {
      "needs_background": "light"
     },
     "output_type": "display_data"
    }
   ],
   "source": [
    "# em https://towardsdatascience.com/dive-into-pca-principal-component-analysis-with-python-43ded13ead21\n",
    "feature_worst=list(allXy[20:31]) # select the 'worst' features\n",
    "#print(feature_worst)\n",
    "import seaborn as sns\n",
    "s=sns.heatmap(allXy[feature_worst].corr(),cmap='coolwarm') \n",
    "#s.set_yticklabels(s.get_yticklabels(),rotation=30,fontsize=7)\n",
    "#s.set_xticklabels(s.get_xticklabels(),rotation=30,fontsize=7)\n",
    "#plt.show()"
   ]
  },
  {
   "cell_type": "markdown",
   "metadata": {},
   "source": [
    "# Clustering\n",
    "### K-Means Clustering"
   ]
  },
  {
   "cell_type": "markdown",
   "metadata": {},
   "source": [
    "* Correr o clustering"
   ]
  },
  {
   "cell_type": "code",
   "execution_count": 326,
   "metadata": {},
   "outputs": [],
   "source": [
    "from sklearn.cluster import KMeans\n",
    "k=6\n",
    "kmeans_har = KMeans(n_clusters=k, max_iter=1000)\n",
    "kmeans_har.fit(scaled)\n",
    "labels = kmeans_har.labels_\n",
    "centroids = kmeans_har.cluster_centers_"
   ]
  },
  {
   "cell_type": "markdown",
   "metadata": {},
   "source": [
    "* Comparar com os grupos “naturais”"
   ]
  },
  {
   "cell_type": "code",
   "execution_count": 327,
   "metadata": {},
   "outputs": [
    {
     "data": {
      "text/html": [
       "<div>\n",
       "<style scoped>\n",
       "    .dataframe tbody tr th:only-of-type {\n",
       "        vertical-align: middle;\n",
       "    }\n",
       "\n",
       "    .dataframe tbody tr th {\n",
       "        vertical-align: top;\n",
       "    }\n",
       "\n",
       "    .dataframe thead th {\n",
       "        text-align: right;\n",
       "    }\n",
       "</style>\n",
       "<table border=\"1\" class=\"dataframe\">\n",
       "  <thead>\n",
       "    <tr style=\"text-align: right;\">\n",
       "      <th>Activity</th>\n",
       "      <th>LAYING</th>\n",
       "      <th>SITTING</th>\n",
       "      <th>STANDING</th>\n",
       "      <th>WALKING</th>\n",
       "      <th>WALKING_DOWNSTAIRS</th>\n",
       "      <th>WALKING_UPSTAIRS</th>\n",
       "    </tr>\n",
       "    <tr>\n",
       "      <th>clusters</th>\n",
       "      <th></th>\n",
       "      <th></th>\n",
       "      <th></th>\n",
       "      <th></th>\n",
       "      <th></th>\n",
       "      <th></th>\n",
       "    </tr>\n",
       "  </thead>\n",
       "  <tbody>\n",
       "    <tr>\n",
       "      <td>0</td>\n",
       "      <td>1556</td>\n",
       "      <td>91</td>\n",
       "      <td>0</td>\n",
       "      <td>0</td>\n",
       "      <td>0</td>\n",
       "      <td>0</td>\n",
       "    </tr>\n",
       "    <tr>\n",
       "      <td>1</td>\n",
       "      <td>5</td>\n",
       "      <td>1</td>\n",
       "      <td>0</td>\n",
       "      <td>903</td>\n",
       "      <td>321</td>\n",
       "      <td>1242</td>\n",
       "    </tr>\n",
       "    <tr>\n",
       "      <td>2</td>\n",
       "      <td>0</td>\n",
       "      <td>0</td>\n",
       "      <td>0</td>\n",
       "      <td>742</td>\n",
       "      <td>889</td>\n",
       "      <td>295</td>\n",
       "    </tr>\n",
       "    <tr>\n",
       "      <td>3</td>\n",
       "      <td>0</td>\n",
       "      <td>0</td>\n",
       "      <td>0</td>\n",
       "      <td>77</td>\n",
       "      <td>196</td>\n",
       "      <td>5</td>\n",
       "    </tr>\n",
       "    <tr>\n",
       "      <td>4</td>\n",
       "      <td>54</td>\n",
       "      <td>1238</td>\n",
       "      <td>1346</td>\n",
       "      <td>0</td>\n",
       "      <td>0</td>\n",
       "      <td>0</td>\n",
       "    </tr>\n",
       "    <tr>\n",
       "      <td>5</td>\n",
       "      <td>329</td>\n",
       "      <td>447</td>\n",
       "      <td>560</td>\n",
       "      <td>0</td>\n",
       "      <td>0</td>\n",
       "      <td>2</td>\n",
       "    </tr>\n",
       "  </tbody>\n",
       "</table>\n",
       "</div>"
      ],
      "text/plain": [
       "Activity  LAYING  SITTING  STANDING  WALKING  WALKING_DOWNSTAIRS  \\\n",
       "clusters                                                           \n",
       "0           1556       91         0        0                   0   \n",
       "1              5        1         0      903                 321   \n",
       "2              0        0         0      742                 889   \n",
       "3              0        0         0       77                 196   \n",
       "4             54     1238      1346        0                   0   \n",
       "5            329      447       560        0                   0   \n",
       "\n",
       "Activity  WALKING_UPSTAIRS  \n",
       "clusters                    \n",
       "0                        0  \n",
       "1                     1242  \n",
       "2                      295  \n",
       "3                        5  \n",
       "4                        0  \n",
       "5                        2  "
      ]
     },
     "execution_count": 327,
     "metadata": {},
     "output_type": "execute_result"
    }
   ],
   "source": [
    "pd.crosstab(labels, allXy[\"Activity\"], rownames=['clusters'])"
   ]
  },
  {
   "cell_type": "markdown",
   "metadata": {},
   "source": [
    "### Clustering hierárquico\n",
    "* Correr o clustering (para os dados agrupados standardizados)"
   ]
  },
  {
   "cell_type": "code",
   "execution_count": 328,
   "metadata": {},
   "outputs": [],
   "source": [
    "from scipy.cluster.hierarchy import dendrogram, linkage\n",
    "grouped_sc = preprocessing.scale(grouped.iloc[:,2:])\n",
    "Z = linkage(grouped_sc, method='single', metric='euclidean')"
   ]
  },
 
  {
   "cell_type": "markdown",
   "metadata": {},
   "source": [
    "# Divisão treino+teste"
   ]
  },
  {
   "cell_type": "code",
   "execution_count": 39,
   "metadata": {},
   "outputs": [],
   "source": [
    "from sklearn.model_selection import train_test_split\n",
    "X_train, X_test, y_train, y_test = train_test_split(x_all,y_all, test_size= 0.3, random_state=10)"
   ]
  },
  {
   "cell_type": "code",
   "execution_count": 40,
   "metadata": {},
   "outputs": [
    {
     "name": "stdout",
     "output_type": "stream",
     "text": [
      "(7209, 561) (7209,)\n",
      "(3090, 561) (3090,)\n",
      "LAYING                0.186295\n",
      "STANDING              0.185185\n",
      "SITTING               0.174227\n",
      "WALKING               0.164933\n",
      "WALKING_UPSTAIRS      0.152032\n",
      "WALKING_DOWNSTAIRS    0.137328\n",
      "Name: Activity, dtype: float64\n",
      "LAYING                0.194498\n",
      "STANDING              0.184790\n",
      "WALKING               0.172492\n",
      "SITTING               0.168608\n",
      "WALKING_UPSTAIRS      0.144984\n",
      "WALKING_DOWNSTAIRS    0.134628\n",
      "Name: Activity, dtype: float64\n"
     ]
    }
   ],
   "source": [
    "from sklearn.model_selection import train_test_split\n",
    "X_tr, X_ts, y_tr, y_ts = train_test_split(allXy.iloc[:,:-2],allXy.iloc[:,-1], test_size= 0.3)\n",
    "print(X_tr.shape, y_tr.shape)\n",
    "print(X_ts.shape, y_ts.shape)\n",
    "print(y_tr.value_counts()/len(y_tr))\n",
    "print(y_ts.value_counts()/len(y_ts))"
   ]
  },
  {
   "cell_type": "markdown",
   "metadata": {},
   "source": [
    "# KNN"
   ]
  },
  {
   "cell_type": "code",
   "execution_count": 330,
   "metadata": {},
   "outputs": [
    {
     "data": {
      "text/plain": [
       "KNeighborsClassifier(algorithm='auto', leaf_size=30, metric='minkowski',\n",
       "                     metric_params=None, n_jobs=None, n_neighbors=1, p=1,\n",
       "                     weights='uniform')"
      ]
     },
     "execution_count": 330,
     "metadata": {},
     "output_type": "execute_result"
    }
   ],
   "source": [
    "from sklearn.neighbors import KNeighborsClassifier\n",
    "knn = KNeighborsClassifier(n_neighbors=1,p=1, weights='uniform')\n",
    "knn"
   ]
  },
  {
   "cell_type": "code",
   "execution_count": 332,
   "metadata": {},
   "outputs": [
    {
     "name": "stdout",
     "output_type": "stream",
     "text": [
      "KNeighborsClassifier(algorithm='auto', leaf_size=30, metric='minkowski',\n",
      "                     metric_params=None, n_jobs=None, n_neighbors=1, p=1,\n",
      "                     weights='uniform')\n"
     ]
    }
   ],
   "source": [
    "knn_model=knn.fit(X_train, y_train.values.ravel())\n",
    "print(knn_model)\n",
    "Y_pred_test = knn_model.predict(X_test)\n",
    "#print('Valores previstos:',Y_pred_test)\n",
    "#print('Valores reais    :',y_test)"
   ]
  },
  {
   "cell_type": "code",
   "execution_count": 333,
   "metadata": {},
   "outputs": [
    {
     "name": "stdout",
     "output_type": "stream",
     "text": [
      "     0    1    2    3    4    5\n",
      "0  582    0    0    0    0    0\n",
      "1    0  517   21    0    0    0\n",
      "2    0   13  543    0    0    0\n",
      "3    0    0    0  512    0    0\n",
      "4    0    0    0    0  425    1\n",
      "5    0    0    0    0    0  476\n"
     ]
    }
   ],
   "source": [
    "conf_mat=confusion_matrix(y_test,knn_model.predict(X_test))\n",
    "conf_mat=pd.DataFrame(conf_mat)\n",
    "#conf_mat.index.name='Actual'\n",
    "#conf_mat.columns.name='Predicted'\n",
    "print(conf_mat)"
   ]
  },
  {
   "cell_type": "code",
   "execution_count": 334,
   "metadata": {},
   "outputs": [
    {
     "name": "stdout",
     "output_type": "stream",
     "text": [
      "Accuracy_test: 0.988673139158576\n",
      "Balanced_Accuracy_test: 0.9892063049910874\n"
     ]
    }
   ],
   "source": [
    "#print('Score:',knn_model.score(X_test, y_test))\n",
    "print(\"Accuracy_test:\",metrics.accuracy_score(y_test , Y_pred_test)) \n",
    "print(\"Balanced_Accuracy_test:\",metrics.balanced_accuracy_score(y_test , Y_pred_test)) "
   ]
  },
  {
   "cell_type": "markdown",
   "metadata": {},
   "source": [
    "### Ensamble: bagging"
   ]
  },
  {
   "cell_type": "code",
   "execution_count": 336,
   "metadata": {},
   "outputs": [
    {
     "name": "stdout",
     "output_type": "stream",
     "text": [
      "[0.88834951 0.90339806 0.92135922 0.9276699  0.90869354]\n",
      "0.9098940479165586\n"
     ]
    }
   ],
   "source": [
    "from sklearn.ensemble import BaggingClassifier\n",
    "\n",
    "bagged_model_knn = BaggingClassifier(knn, max_samples=0.5, max_features=0.5)\n",
    "scores_bag = cross_val_score(bagged_model_knn, x_all, y_all.values.ravel(), cv = 5)\n",
    "print (scores_bag)\n",
    "print(scores_bag.mean())"
   ]
  },
  {
   "cell_type": "code",
   "execution_count": null,
   "metadata": {},
   "outputs": [],
   "source": []
  },
  {
   "cell_type": "code",
   "execution_count": null,
   "metadata": {},
   "outputs": [],
   "source": []
  },
  {
   "cell_type": "markdown",
   "metadata": {},
   "source": [
    "# Random Forest"
   ]
  },
  {
   "cell_type": "code",
   "execution_count": 206,
   "metadata": {},
   "outputs": [],
   "source": [
    "from sklearn.ensemble import RandomForestClassifier"
   ]
  },
  {
   "cell_type": "code",
   "execution_count": 369,
   "metadata": {},
   "outputs": [
    {
     "name": "stderr",
     "output_type": "stream",
     "text": [
      "C:\\Anaconda3b\\lib\\site-packages\\ipykernel_launcher.py:2: DataConversionWarning: A column-vector y was passed when a 1d array was expected. Please change the shape of y to (n_samples,), for example using ravel().\n",
      "  \n"
     ]
    },
    {
     "name": "stdout",
     "output_type": "stream",
     "text": [
      "Score: 0.9815533980582525\n"
     ]
    }
   ],
   "source": [
    "rf_clf = RandomForestClassifier(n_estimators = 100,criterion='entropy',bootstrap=False)\n",
    "rf_clf = rf_clf.fit(X_train, y_train)\n",
    "print('Score:',rf_clf.score(X_test, y_test))"
   ]
  },
  {
   "cell_type": "code",
   "execution_count": null,
   "metadata": {},
   "outputs": [],
   "source": [
    "#entropy: 0.9770226537216828\n",
    "# sem bootstrap:  0.9825242718446602"
   ]
  },
  {
   "cell_type": "code",
   "execution_count": 370,
   "metadata": {
    "scrolled": true
   },
   "outputs": [
    {
     "data": {
      "text/plain": [
       "RandomForestClassifier(bootstrap=False, ccp_alpha=0.0, class_weight=None,\n",
       "                       criterion='entropy', max_depth=None, max_features='auto',\n",
       "                       max_leaf_nodes=None, max_samples=None,\n",
       "                       min_impurity_decrease=0.0, min_impurity_split=None,\n",
       "                       min_samples_leaf=1, min_samples_split=2,\n",
       "                       min_weight_fraction_leaf=0.0, n_estimators=100,\n",
       "                       n_jobs=None, oob_score=False, random_state=None,\n",
       "                       verbose=0, warm_start=False)"
      ]
     },
     "execution_count": 370,
     "metadata": {},
     "output_type": "execute_result"
    }
   ],
   "source": [
    "rf_clf"
   ]
  },
  {
   "cell_type": "code",
   "execution_count": 245,
   "metadata": {},
   "outputs": [
    {
     "name": "stdout",
     "output_type": "stream",
     "text": [
      "Predicted    0    1    2    3    4    5\n",
      "Actual                                 \n",
      "0          582    0    0    0    0    0\n",
      "1            0  514   24    0    0    0\n",
      "2            0   17  539    0    0    0\n",
      "3            0    0    0  504    2    6\n",
      "4            0    0    0    2  419    5\n",
      "5            0    0    0    2    2  472\n"
     ]
    }
   ],
   "source": [
    "conf_mat=confusion_matrix(y_test,rf_clf.predict(X_test))\n",
    "conf_mat=pd.DataFrame(conf_mat)\n",
    "conf_mat.index.name='Actual'\n",
    "conf_mat.columns.name='Predicted'\n",
    "print(conf_mat)"
   ]
  },
  {
   "cell_type": "markdown",
   "metadata": {},
   "source": [
    "* cross validation"
   ]
  },
  {
   "cell_type": "code",
   "execution_count": 246,
   "metadata": {},
   "outputs": [
    {
     "name": "stdout",
     "output_type": "stream",
     "text": [
      "Num estimators: 50.0000 Accuracy: 0.9389\n",
      "Num estimators: 100.0000 Accuracy: 0.9406\n",
      "Num estimators: 200.0000 Accuracy: 0.9422\n",
      "Num estimators: 500.0000 Accuracy: 0.9412\n"
     ]
    }
   ],
   "source": [
    "for n_estimators in [50, 100, 200, 500]:\n",
    " rf_clf = RandomForestClassifier(n_estimators = n_estimators,criterion='entropy',bootstrap=False)\n",
    " rf_scores = cross_val_score(rf_clf, x_all, y_all.values.ravel(), scoring=\"accuracy\", cv = 4)\n",
    " print(\"Num estimators: %.4f Accuracy: %.4f\" %(n_estimators, rf_scores.mean()))"
   ]
  },
  {
   "cell_type": "code",
   "execution_count": 248,
   "metadata": {},
   "outputs": [],
   "source": [
    "rf_clf = RandomForestClassifier(n_estimators = 100,criterion='entropy',bootstrap=False)\n",
    "predictions=cross_val_predict(rf_clf,x_all,y_all.values.ravel(),cv=4)"
   ]
  },
  {
   "cell_type": "code",
   "execution_count": 249,
   "metadata": {},
   "outputs": [
    {
     "name": "stdout",
     "output_type": "stream",
     "text": [
      "Predicted     0     1     2     3     4     5\n",
      "Actual                                       \n",
      "0          1941     0     0     0     2     1\n",
      "1            15  1615   146     0     0     1\n",
      "2             0   144  1762     0     0     0\n",
      "3             0     0     0  1593    48    81\n",
      "4             0     0     0    23  1326    57\n",
      "5             0     0     1    46    65  1432\n"
     ]
    }
   ],
   "source": [
    "conf_mat=confusion_matrix(y_all,predictions)\n",
    "conf_mat=pd.DataFrame(conf_mat)\n",
    "conf_mat.index.name='Actual'\n",
    "conf_mat.columns.name='Predicted'\n",
    "print(conf_mat)"
   ]
  },
  {
   "cell_type": "markdown",
   "metadata": {},
   "source": [
    "### Ensamble: bagging"
   ]
  },
  {
   "cell_type": "code",
   "execution_count": 337,
   "metadata": {},
   "outputs": [
    {
     "name": "stdout",
     "output_type": "stream",
     "text": [
      "[0.9368932  0.92330097 0.95145631 0.95339806 0.93589121]\n",
      "0.9401879506028472\n"
     ]
    }
   ],
   "source": [
    "bagged_model_rf = BaggingClassifier(rf_clf, max_samples=0.5, max_features=0.5)\n",
    "scores_bag = cross_val_score(bagged_model_rf, x_all, y_all.values.ravel(), cv = 5)\n",
    "print (scores_bag)\n",
    "print(scores_bag.mean())"
   ]
  },
  {
   "cell_type": "code",
   "execution_count": 41,
   "metadata": {},
   "outputs": [
    {
     "data": {
      "text/plain": [
       "0.9592233009708738"
      ]
     },
     "execution_count": 41,
     "metadata": {},
     "output_type": "execute_result"
    }
   ],
   "source": [
    "from sklearn.ensemble import BaggingClassifier\n",
    "from sklearn import tree\n",
    "bag_model = BaggingClassifier(tree.DecisionTreeClassifier())\n",
    "bag_model.fit(X_tr, y_tr)\n",
    "bag_model.score(X_ts, y_ts)"
   ]
  },
  {
   "cell_type": "markdown",
   "metadata": {},
   "source": [
    "### Ensamble: boosting\n",
    "(converting a set of weak learners into strong learners)"
   ]
  },
  {
   "cell_type": "code",
   "execution_count": 342,
   "metadata": {},
   "outputs": [
    {
     "name": "stdout",
     "output_type": "stream",
     "text": [
      "0.5339805825242718\n"
     ]
    }
   ],
   "source": [
    "from sklearn.ensemble import AdaBoostClassifier\n",
    "ada_tree = AdaBoostClassifier()\n",
    "ada_tree1 = ada_tree.fit(X_train, y_train.values.ravel())\n",
    "print(ada_tree1.score(X_test, y_test.values.ravel()))"
   ]
  },
  {
   "cell_type": "code",
   "execution_count": 338,
   "metadata": {},
   "outputs": [
    {
     "name": "stdout",
     "output_type": "stream",
     "text": [
      "[0.54058252 0.54097087 0.54058252 0.54118104]\n",
      "0.5408292408777845\n"
     ]
    }
   ],
   "source": [
    "ada_tree = AdaBoostClassifier(n_estimators=100)\n",
    "scores_ada = cross_val_score(ada_tree, x_all, y_all.values.ravel(), cv = 4)\n",
    "print (scores_ada)\n",
    "print (scores_ada.mean())"
   ]
  },
  {
   "cell_type": "code",
   "execution_count": 351,
   "metadata": {},
   "outputs": [
    {
     "name": "stdout",
     "output_type": "stream",
     "text": [
      "Score: 0.5339805825242718\n"
     ]
    }
   ],
   "source": [
    "ada_tree = AdaBoostClassifier(n_estimators=100)\n",
    "ada_tree.fit(X_train,y_train.values.ravel())\n",
    "print('Score:',ada_tree.score(X_test, y_test.values.ravel()))"
   ]
  },
  {
   "cell_type": "code",
   "execution_count": 355,
   "metadata": {},
   "outputs": [
    {
     "data": {
      "text/plain": [
       "XGBClassifier(base_score=0.5, booster='gbtree', colsample_bylevel=1,\n",
       "              colsample_bynode=1, colsample_bytree=1, gamma=0,\n",
       "              learning_rate=0.1, max_delta_step=0, max_depth=3,\n",
       "              min_child_weight=1, missing=None, n_estimators=100, n_jobs=1,\n",
       "              nthread=None, objective='multi:softprob', random_state=0,\n",
       "              reg_alpha=0, reg_lambda=1, scale_pos_weight=1, seed=None,\n",
       "              silent=None, subsample=1, verbosity=1)"
      ]
     },
     "execution_count": 355,
     "metadata": {},
     "output_type": "execute_result"
    }
   ],
   "source": [
    "# XGBoost \n",
    "from xgboost import XGBClassifier\n",
    "clf = XGBClassifier()\n",
    "X_train = X_train.loc[:,~X_train.columns.duplicated()]\n",
    "# n_estimators = 100 (default)\n",
    "# max_depth = 3 (default)\n",
    "clf.fit(X_train,y_train.values.ravel())\n",
    "#clf.predict(x_test)"
   ]
  },
  {
   "cell_type": "code",
   "execution_count": 356,
   "metadata": {},
   "outputs": [
    {
     "name": "stdout",
     "output_type": "stream",
     "text": [
      "Score: 0.9802588996763754\n"
     ]
    }
   ],
   "source": [
    "X_test = X_test.loc[:,~X_test.columns.duplicated()]\n",
    "print('Score:',clf.score(X_test, y_test.values.ravel()))"
   ]
  },
  {
   "cell_type": "markdown",
   "metadata": {},
   "source": [
    "# SVM"
   ]
  },
  {
   "cell_type": "code",
   "execution_count": 25,
   "metadata": {},
   "outputs": [],
   "source": [
    "from sklearn import svm"
   ]
  },
  {
   "cell_type": "code",
   "execution_count": 28,
   "metadata": {},
   "outputs": [
    {
     "name": "stdout",
     "output_type": "stream",
     "text": [
      "Score: 0.9851132686084142\n"
     ]
    }
   ],
   "source": [
    "svm_model = svm.SVC(kernel='linear', C=20, gamma=0.01, random_state=123)\n",
    "svm_model=svm_model.fit(X_train, y_train.values.ravel())\n",
    "print('Score:',svm_model.score(X_test, y_test.values.ravel()))"
   ]
  },
  {
   "cell_type": "code",
   "execution_count": 27,
   "metadata": {},
   "outputs": [],
   "source": [
    "#C1+G0.1: 0.9828478964401295\n",
    "#C10+G0.1: 0.984789644012945\n",
    "#C20+G0.1:  0.9851132686084142"
   ]
  },
  {
   "cell_type": "code",
   "execution_count": 29,
   "metadata": {},
   "outputs": [
    {
     "data": {
      "text/plain": [
       "SVC(C=20, break_ties=False, cache_size=200, class_weight=None, coef0=0.0,\n",
       "    decision_function_shape='ovr', degree=3, gamma=0.01, kernel='linear',\n",
       "    max_iter=-1, probability=False, random_state=123, shrinking=True, tol=0.001,\n",
       "    verbose=False)"
      ]
     },
     "execution_count": 29,
     "metadata": {},
     "output_type": "execute_result"
    }
   ],
   "source": [
    "svm_model"
   ]
  },
  {
   "cell_type": "code",
   "execution_count": 360,
   "metadata": {},
   "outputs": [
    {
     "name": "stdout",
     "output_type": "stream",
     "text": [
      "Predicted    0    1    2    3    4    5\n",
      "Actual                                 \n",
      "0          582    0    0    0    0    0\n",
      "1            0  513   25    0    0    0\n",
      "2            0   17  539    0    0    0\n",
      "3            0    0    0  512    0    0\n",
      "4            0    0    0    0  426    0\n",
      "5            0    0    0    4    0  472\n"
     ]
    }
   ],
   "source": [
    "conf_mat=confusion_matrix(y_test,svm_model.predict(X_test))\n",
    "conf_mat=pd.DataFrame(conf_mat)\n",
    "conf_mat.index.name='Actual'\n",
    "conf_mat.columns.name='Predicted'\n",
    "print(conf_mat)"
   ]
  },
  {
   "cell_type": "markdown",
   "metadata": {},
   "source": [
    "### Cross validation\n",
    "* Scoring: accuracy"
   ]
  },
  {
   "cell_type": "code",
   "execution_count": 289,
   "metadata": {},
   "outputs": [
    {
     "name": "stdout",
     "output_type": "stream",
     "text": [
      "Score mean: 0.9585396911610504\n"
     ]
    }
   ],
   "source": [
    "svm_cv = cross_val_score(svm_model, x_all, y_all.values.ravel(), cv = 4, scoring=\"accuracy\")\n",
    "print('Score mean:',svm_cv.mean())"
   ]
  },
  {
   "cell_type": "code",
   "execution_count": 290,
   "metadata": {},
   "outputs": [
    {
     "name": "stdout",
     "output_type": "stream",
     "text": [
      "Predicted     0     1     2     3     4     5\n",
      "Actual                                       \n",
      "0          1944     0     0     0     0     0\n",
      "1             2  1653   120     0     0     2\n",
      "2             0   145  1761     0     0     0\n",
      "3             0     0     0  1666     9    47\n",
      "4             0     0     0    19  1378     9\n",
      "5             0     0     0    20    54  1470\n"
     ]
    }
   ],
   "source": [
    "predictions=cross_val_predict(svm_model,x_all,y_all.values.ravel(),cv=4)\n",
    "conf_mat=confusion_matrix(y_all,predictions)\n",
    "conf_mat=pd.DataFrame(conf_mat)\n",
    "conf_mat.index.name='Actual'\n",
    "conf_mat.columns.name='Predicted'\n",
    "print(conf_mat)"
   ]
  },
  {
   "cell_type": "markdown",
   "metadata": {},
   "source": [
    "# Otimização de hiperpârametros\n",
    "### Procura em grelha de parâmetros de SVMs "
   ]
  },
  {
   "cell_type": "code",
   "execution_count": 367,
   "metadata": {
    "scrolled": true
   },
   "outputs": [
    {
     "name": "stdout",
     "output_type": "stream",
     "text": [
      "SVC(C=1, break_ties=False, cache_size=200, class_weight=None, coef0=0.0,\n",
      "    decision_function_shape='ovr', degree=3, gamma=0.01, kernel='linear',\n",
      "    max_iter=-1, probability=False, random_state=None, shrinking=True,\n",
      "    tol=0.001, verbose=False)\n",
      "0.9597057672449157\n"
     ]
    }
   ],
   "source": [
    "from sklearn import svm\n",
    "from sklearn.model_selection import GridSearchCV\n",
    "#parameters = {'kernel':('linear', 'sigmoid', 'rbf', 'poly','precomputed'), 'C':[1, 10, 20, 100],'gamma':[0.01, 0.001]}\n",
    "parameters = {'kernel':('linear','rbf'), 'C':[1,20],'gamma':[0.01,0.001]}\n",
    "svm_model_d = svm.SVC( )\n",
    "\n",
    "# GridSearch\n",
    "opt_model_d = GridSearchCV(svm_model_d, parameters)\n",
    "opt_model_d.fit(x_all, y_all.values.ravel())\n",
    "print (opt_model_d.best_estimator_)\n",
    "scores_gs = cross_val_score(opt_model_d, x_all, y_all.values.ravel(), cv = 5)\n",
    "print (scores_gs.mean())"
   ]
  },
  {
   "cell_type": "markdown",
   "metadata": {},
   "source": [
    "### Seleção aleatória"
   ]
  },
  {
   "cell_type": "code",
   "execution_count": 368,
   "metadata": {},
   "outputs": [
    {
     "name": "stdout",
     "output_type": "stream",
     "text": [
      "RandomForestClassifier(bootstrap=True, ccp_alpha=0.0, class_weight=None,\n",
      "                       criterion='entropy', max_depth=None, max_features=6,\n",
      "                       max_leaf_nodes=None, max_samples=None,\n",
      "                       min_impurity_decrease=0.0, min_impurity_split=None,\n",
      "                       min_samples_leaf=6, min_samples_split=2,\n",
      "                       min_weight_fraction_leaf=0.0, n_estimators=100,\n",
      "                       n_jobs=None, oob_score=False, random_state=None,\n",
      "                       verbose=0, warm_start=False)\n",
      "Model with rank: 3\n",
      "Mean validation score: 0.928 (std: 0.013)\n",
      "Parameters: {'min_samples_split': 4, 'min_samples_leaf': 4, 'max_features': 4, 'max_depth': None, 'criterion': 'entropy', 'bootstrap': False}\n",
      "\n",
      "Score mean: 0.9337798535437599\n"
     ]
    }
   ],
   "source": [
    "# seleção aleatória\n",
    "from sklearn.model_selection import RandomizedSearchCV\n",
    "from sklearn.ensemble import RandomForestClassifier\n",
    "\n",
    "rf_model = RandomForestClassifier(n_estimators=100)\n",
    "param_dist = {\"max_depth\": [2, 3, None], \"max_features\": [2,4,6],\"min_samples_split\": [2,4,6], \"min_samples_leaf\": [2,4,6],\n",
    "\"bootstrap\": [True, False], \"criterion\": [\"gini\", \"entropy\"]}\n",
    "\n",
    "rand_search =  (rf_model,param_distributions=param_dist, n_iter=20, cv = 5)\n",
    "rand_search.fit(x_all, y_all.values.ravel())\n",
    "print (rand_search.best_estimator_)\n",
    "report(rand_search.cv_results_)\n",
    "scores_rs = cross_val_score(rand_search, x_all, y_all.values.ravel(), cv = 5)\n",
    "print ('Score mean:',scores_rs.mean())"
   ]
  },
  {
   "cell_type": "code",
   "execution_count": null,
   "metadata": {},
   "outputs": [],
   "source": [
    "\n",
    "RandomForestClassifier(bootstrap=False, ccp_alpha=0.0, class_weight=None,\n",
    "                       criterion='entropy', max_depth=None, max_features='auto',\n",
    "                       max_leaf_nodes=None, max_samples=None,\n",
    "                       min_impurity_decrease=0.0, min_impurity_split=None,\n",
    "                       min_samples_leaf=1, min_samples_split=2,\n",
    "                       min_weight_fraction_leaf=0.0, n_estimators=100,\n",
    "                       n_jobs=None, oob_score=False, random_state=None,\n",
    "                       verbose=0, warm_start=False)"
   ]
  },
  {
   "cell_type": "markdown",
   "metadata": {},
   "source": [
    "### Grid search; SVM com kernel Gaussiano"
   ]
  },
  {
   "cell_type": "code",
   "execution_count": 47,
   "metadata": {},
   "outputs": [
    {
     "name": "stdout",
     "output_type": "stream",
     "text": [
      "SVC(C=100, break_ties=False, cache_size=200, class_weight=None, coef0=0.0,\n",
      "    decision_function_shape='ovr', degree=3, gamma=0.01, kernel='rbf',\n",
      "    max_iter=-1, probability=False, random_state=None, shrinking=True,\n",
      "    tol=0.001, verbose=False)\n"
     ]
    },
    {
     "data": {
      "text/plain": [
       "GridSearchCV(cv=None, error_score=nan,\n",
       "             estimator=SVC(C=1.0, break_ties=False, cache_size=200,\n",
       "                           class_weight=None, coef0=0.0,\n",
       "                           decision_function_shape='ovr', degree=3,\n",
       "                           gamma='scale', kernel='rbf', max_iter=-1,\n",
       "                           probability=False, random_state=None, shrinking=True,\n",
       "                           tol=0.001, verbose=False),\n",
       "             iid='deprecated', n_jobs=None,\n",
       "             param_grid={'C': [1, 10, 100], 'gamma': [0.01, 0.001]},\n",
       "             pre_dispatch='2*n_jobs', refit=True, return_train_score=False,\n",
       "             scoring=None, verbose=0)"
      ]
     },
     "execution_count": 47,
     "metadata": {},
     "output_type": "execute_result"
    }
   ],
   "source": [
    "from sklearn.model_selection import GridSearchCV\n",
    "parameters = {'C':[1, 10, 100], 'gamma':[0.01, 0.001]}\n",
    "svm_model_d = svm.SVC()\n",
    "opt_model_d = GridSearchCV(svm_model_d, parameters)\n",
    "opt_model_d.fit(X_tr, y_tr)\n",
    "print (opt_model_d.best_estimator_)\n",
    "opt_model_d.score(X_ts, y_ts)\n",
    "opt_model_d.fit(allXy.iloc[:,:-2], allXy.iloc[:,-1])"
   ]
  },
  {
   "cell_type": "markdown",
   "metadata": {},
   "source": [
    "* Modelo final"
   ]
  },
  {
   "cell_type": "code",
   "execution_count": 48,
   "metadata": {},
   "outputs": [
    {
     "data": {
      "text/plain": [
       "GridSearchCV(cv=None, error_score=nan,\n",
       "             estimator=SVC(C=1.0, break_ties=False, cache_size=200,\n",
       "                           class_weight=None, coef0=0.0,\n",
       "                           decision_function_shape='ovr', degree=3,\n",
       "                           gamma='scale', kernel='rbf', max_iter=-1,\n",
       "                           probability=False, random_state=None, shrinking=True,\n",
       "                           tol=0.001, verbose=False),\n",
       "             iid='deprecated', n_jobs=None,\n",
       "             param_grid={'C': [1, 10, 100], 'gamma': [0.01, 0.001]},\n",
       "             pre_dispatch='2*n_jobs', refit=True, return_train_score=False,\n",
       "             scoring=None, verbose=0)"
      ]
     },
     "execution_count": 48,
     "metadata": {},
     "output_type": "execute_result"
    }
   ],
   "source": [
    "opt_model_d.fit(allXy.iloc[:,:-2], allXy.iloc[:,-1])"
   ]
  },
  {
   "cell_type": "code",
   "execution_count": 51,
   "metadata": {},
   "outputs": [
    {
     "name": "stdout",
     "output_type": "stream",
     "text": [
      "SVC(C=100, break_ties=False, cache_size=200, class_weight=None, coef0=0.0,\n",
      "    decision_function_shape='ovr', degree=3, gamma=0.01, kernel='rbf',\n",
      "    max_iter=-1, probability=False, random_state=None, shrinking=True,\n",
      "    tol=0.001, verbose=False)\n",
      "Model with rank: 3\n",
      "Mean validation score: 0.960 (std: 0.014)\n",
      "Parameters: {'C': 100, 'gamma': 0.001}\n",
      "\n"
     ]
    }
   ],
   "source": [
    "print (opt_model_d.best_estimator_)\n",
    "report(opt_model_d.cv_results_)"
   ]
  },
  {
   "cell_type": "markdown",
   "metadata": {},
   "source": [
    "# Seleção de atributos/Feature selection\n",
    "### Remover variáveis cuja variabilidade seja inferior ao treshold [não supervisionada]\n"
   ]
  },
  {
   "cell_type": "code",
   "execution_count": 30,
   "metadata": {},
   "outputs": [
    {
     "name": "stdout",
     "output_type": "stream",
     "text": [
      "(10299, 562)\n",
      "(10299, 184)\n"
     ]
    }
   ],
   "source": [
    "from sklearn import datasets, svm\n",
    "from sklearn.feature_selection import VarianceThreshold\n",
    "print (x_all.shape)\n",
    "sel = VarianceThreshold(threshold=0.10)\n",
    "filt = sel.fit_transform(x_all)\n",
    "print (filt.shape)\n",
    "svm_model = svm.SVC(gamma=0.01, C=10, kernel='linear')"
   ]
  },
  {
   "cell_type": "code",
   "execution_count": 31,
   "metadata": {},
   "outputs": [
    {
     "name": "stdout",
     "output_type": "stream",
     "text": [
      "0.9580553761133928\n",
      "0.9467922499846754\n"
     ]
    }
   ],
   "source": [
    "scores= cross_val_score(svm_model, x_all, y_all.values.ravel(), cv= 5)\n",
    "print (scores.mean())\n",
    "scores_vt= cross_val_score(svm_model, filt, y_all.values.ravel(), cv= 5)\n",
    "print (scores_vt.mean())\n",
    "#com 1/3 variáveis conseguimos um score 0,95 (proximo de .96)"
   ]
  },
  {
   "cell_type": "code",
   "execution_count": 391,
   "metadata": {},
   "outputs": [
    {
     "name": "stdout",
     "output_type": "stream",
     "text": [
      "(10299, 562)\n",
      "(10299, 28)\n"
     ]
    }
   ],
   "source": [
    "from sklearn import datasets, svm\n",
    "from sklearn.feature_selection import VarianceThreshold\n",
    "print (x_all.shape)\n",
    "sel = VarianceThreshold(threshold=0.30)\n",
    "filt = sel.fit_transform(x_all)\n",
    "print (filt.shape)\n",
    "svm_model = svm.SVC(gamma=0.01, C=10, kernel='linear')"
   ]
  },
  {
   "cell_type": "code",
   "execution_count": 392,
   "metadata": {},
   "outputs": [
    {
     "name": "stdout",
     "output_type": "stream",
     "text": [
      "0.9580553761133928\n",
      "0.8766877596344724\n"
     ]
    }
   ],
   "source": [
    "scores= cross_val_score(svm_model, x_all, y_all.values.ravel(), cv= 5)\n",
    "print (scores.mean())\n",
    "scores_vt= cross_val_score(svm_model, filt, y_all.values.ravel(), cv= 5)\n",
    "print (scores_vt.mean())\n",
    "#com 28 variáveis (5%) conseguimos um score 0,88 (proximo de .96)"
   ]
  },
  {
   "cell_type": "code",
   "execution_count": null,
   "metadata": {},
   "outputs": [],
   "source": []
  },
  {
   "cell_type": "code",
   "execution_count": 44,
   "metadata": {},
   "outputs": [
    {
     "name": "stdout",
     "output_type": "stream",
     "text": [
      "(10299, 364)\n"
     ]
    },
    {
     "data": {
      "text/plain": [
       "0.9857605177993527"
      ]
     },
     "execution_count": 44,
     "metadata": {},
     "output_type": "execute_result"
    }
   ],
   "source": [
    "# sugestão professor\n",
    "from sklearn.feature_selection import VarianceThreshold\n",
    "sel = VarianceThreshold(threshold=0.05)\n",
    "filt_var = sel.fit_transform(allXy.iloc[:,:-2])\n",
    "print(filt_var .shape)\n",
    "X_tr_f, X_ts_f, y_tr_f, y_ts_f = train_test_split(filt_var,allXy.iloc[:,-1], test_size= 0.3)\n",
    "svm_model.fit(X_tr_f, y_tr_f)\n",
    "svm_model.score(X_ts_f, y_ts_f)"
   ]
  },
  {
   "cell_type": "markdown",
   "metadata": {},
   "source": [
    "### Seleção Algoritmos de filtragem supervisiona\n",
    "#### Apenas com um input, como discriminar o output"
   ]
  },
  {
   "cell_type": "code",
   "execution_count": null,
   "metadata": {},
   "outputs": [],
   "source": [
    "from sklearn.feature_selection import SelectKBest, chi2, f_classif\n",
    "#usa qui quadrado\n",
    "filt_kb = SelectKBest(chi2, k=100).fit_transform(x_all, y_all.values.ravel())\n",
    "#print (filt_kb.shape)\n",
    "#scores_kb = cross_val_score(svm_model, filt_kb, y_all.values.ravel(), cv = 5)\n",
    "#print (scores_kb.mean())\n",
    "\n",
    "## Não pode ser usado com valores de input<0"
   ]
  },
  {
   "cell_type": "code",
   "execution_count": 405,
   "metadata": {},
   "outputs": [
    {
     "name": "stdout",
     "output_type": "stream",
     "text": [
      "0.9226157952064581\n"
     ]
    }
   ],
   "source": [
    "#usa f class test\n",
    "# parar quando chegar a 100 das 562 variáveis de input\n",
    "filt_kb2 = SelectKBest(f_classif, k=100).fit_transform(x_all, y_all.values.ravel())\n",
    "scores_kb2 = cross_val_score(svm_model, filt_kb2, y_all.values.ravel(), cv = 5)\n",
    "print (scores_kb2.mean())"
   ]
  },
  {
   "cell_type": "markdown",
   "metadata": {},
   "source": [
    "### Wrapper: recursive feature elimination (RFE)"
   ]
  },
  {
   "cell_type": "code",
   "execution_count": null,
   "metadata": {},
   "outputs": [],
   "source": [
    "# wrapper\n",
    "from sklearn.feature_selection import RFE\n",
    "svm_model = svm.SVC(kernel = \"linear\", C=10)\n",
    "rfe = RFE(estimator=svm_model, n_features_to_select=100, step=1)\n",
    "scores_rfe = cross_val_score(rfe, x_all, y_all.values.ravel(), cv = 10)\n",
    "print (scores_rfe.mean())"
   ]
  },
  {
   "cell_type": "markdown",
   "metadata": {},
   "source": [
    "### Testes estatísticos univariados"
   ]
  },
  {
   "cell_type": "code",
   "execution_count": 33,
   "metadata": {},
   "outputs": [
    {
     "name": "stdout",
     "output_type": "stream",
     "text": [
      "(10299, 168)\n"
     ]
    }
   ],
   "source": [
    "from sklearn.feature_selection import SelectPercentile, f_classif\n",
    "selector = SelectPercentile(f_classif, percentile=30)\n",
    "filt_univ = selector.fit_transform(allXy.iloc[:,:-2], allXy.iloc[:,-1])\n",
    "print(filt_univ .shape)"
   ]
  },
  {
   "cell_type": "markdown",
   "metadata": {},
   "source": [
    "### Remover atributos altamente correlacionados"
   ]
  },
  {
   "cell_type": "code",
   "execution_count": 36,
   "metadata": {},
   "outputs": [
    {
     "name": "stdout",
     "output_type": "stream",
     "text": [
      "[4, 6, 7, 9, 12, 15, 16, 19, 83, 84, 86, 87, 89, 92, 95, 96, 99, 100, 102, 103, 104, 135, 165, 168, 175, 181, 200, 201, 202, 203, 205, 206, 207, 213, 214, 215, 216, 218, 219, 220, 226, 227, 228, 229, 231, 233, 234, 239, 244, 265, 266, 268, 269, 271, 272, 274, 280, 281, 284, 285, 287, 288, 289, 302, 310, 314, 344, 345, 347, 348, 350, 351, 353, 359, 360, 363, 364, 366, 367, 368, 389, 393, 423, 425, 429, 438, 444, 447, 502, 503, 504, 505, 507, 508, 509, 510, 515, 516, 517, 518, 520, 522, 523, 549, 10, 13, 17, 20, 90, 93, 123, 125, 126, 128, 134, 163, 166, 179, 182, 183, 184, 208, 221, 240, 241, 242, 246, 252, 257, 260, 275, 282, 316, 324, 328, 354, 428, 431, 445, 446, 528, 530, 533, 535, 536, 8, 11, 14, 18, 21, 85, 88, 101, 124, 127, 267, 270, 273, 276, 283, 338, 342, 346, 352, 424, 427, 430, 97, 361, 91, 94, 286, 349, 365, 131, 381, 330, 105, 372, 109, 113, 49, 52, 56, 558, 50, 53, 559, 51, 54, 560, 46, 59, 47, 60, 48, 61, 66, 67, 68, 70, 71, 72, 74, 75, 76, 171, 232, 259, 442, 521, 169, 172, 254, 403, 407, 98, 164, 167, 170, 180, 253, 255, 355, 362, 421, 443, 541, 542, 543, 546, 548, 303, 311, 315, 382, 390, 391, 394, 317, 318, 325, 396, 397, 404, 332, 339, 343, 411, 418, 422, 129, 132, 136, 139, 426, 432, 439, 468, 472, 529, 130, 133, 137, 140, 245, 433, 440, 482, 486, 138, 141, 434, 441, 496, 500, 173, 174, 531, 460, 488, 146, 185, 189, 154, 193, 176, 258, 544, 178, 461, 462, 469, 476, 483, 547, 490, 497, 217, 210, 222, 223, 224, 225, 534, 249, 395, 409, 297, 299, 301, 383, 384, 312, 385, 386, 313, 329, 398, 408, 326, 399, 405, 400, 327, 410, 417, 412, 340, 413, 419, 414, 341, 376, 378, 380, 392, 406, 420, 474, 455, 457, 459, 473, 470, 467, 471, 487, 484, 485, 501, 498, 499, 514, 527, 540, 553]\n"
     ]
    }
   ],
   "source": [
    "corr_matrix = allXy.iloc[:,:-2].corr()\n",
    "drop_cols = []\n",
    "threshold_cor = 0.9\n",
    "for i in range(len(corr_matrix.columns) - 1):\n",
    " for j in range(i+1,len(corr_matrix.columns)):\n",
    "  if j not in drop_cols:\n",
    "   item = corr_matrix.iloc[i:(i+1), j:(j+1)]\n",
    "   val = item.values\n",
    "   if abs(val) >= threshold_cor:\n",
    "    drop_cols.append(j)\n",
    "print(drop_cols)"
   ]
  },
  {
   "cell_type": "code",
   "execution_count": 37,
   "metadata": {},
   "outputs": [
    {
     "name": "stdout",
     "output_type": "stream",
     "text": [
      "(10299, 204)\n"
     ]
    }
   ],
   "source": [
    "keep = []\n",
    "for i in range(len(corr_matrix.columns)):\n",
    " if i not in drop_cols:\n",
    "  keep.append(i)\n",
    "  orig = allXy.iloc[:,:-2]\n",
    "  filt_cor = orig.iloc[:,keep]\n",
    "print(filt_cor.shape)"
   ]
  },
  {
   "cell_type": "code",
   "execution_count": 45,
   "metadata": {},
   "outputs": [
    {
     "data": {
      "text/plain": [
       "0.9809061488673139"
      ]
     },
     "execution_count": 45,
     "metadata": {},
     "output_type": "execute_result"
    }
   ],
   "source": [
    "X_tr_f2, X_ts_f2, y_tr_f2, y_ts_f2 = train_test_split(filt_cor,\n",
    "allXy.iloc[:,-1], test_size= 0.3)\n",
    "svm_model.fit(X_tr_f2, y_tr_f2)\n",
    "svm_model.score(X_ts_f2, y_ts_f2)"
   ]
  },
  {
   "cell_type": "code",
   "execution_count": null,
   "metadata": {},
   "outputs": [],
   "source": []
  }
 ],
 "metadata": {
  "kernelspec": {
   "display_name": "Python 3",
   "language": "python",
   "name": "python3"
  },
  "language_info": {
   "codemirror_mode": {
    "name": "ipython",
    "version": 3
   },
   "file_extension": ".py",
   "mimetype": "text/x-python",
   "name": "python",
   "nbconvert_exporter": "python",
   "pygments_lexer": "ipython3",
   "version": "3.7.4"
  }
 },
 "nbformat": 4,
 "nbformat_minor": 2
}
